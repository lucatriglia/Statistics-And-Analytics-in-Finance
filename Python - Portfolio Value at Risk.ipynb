{
 "cells": [
  {
   "cell_type": "markdown",
   "id": "aee8dacf",
   "metadata": {},
   "source": [
    "# Python - Portfolio Value-at-Risk"
   ]
  },
  {
   "cell_type": "markdown",
   "id": "2e94cd08",
   "metadata": {},
   "source": [
    "### 1. Revisit the all-weather portfolio you crafted. Put the portfolio daily and cumulative returns of the three portfolios (i.e., equally-weighted, maximum Sharpe, or minimum volatility) side-by-side in a dataframe."
   ]
  },
  {
   "cell_type": "code",
   "execution_count": 1,
   "id": "19b48d0c",
   "metadata": {},
   "outputs": [],
   "source": [
    "# Install yahoo finance API package\n",
    "# Once installed, comment this out\n",
    "# !pip install yfinance --upgrade --no-cache-dir"
   ]
  },
  {
   "cell_type": "code",
   "execution_count": 2,
   "id": "36df558e-7777-4fc7-93f5-35f46697aa63",
   "metadata": {},
   "outputs": [],
   "source": [
    "# Import the necessary packages\n",
    "import yfinance as yf\n",
    "import datetime as dt \n",
    "import numpy as np\n",
    "import pandas as pd\n",
    "import matplotlib.pyplot as plt"
   ]
  },
  {
   "cell_type": "code",
   "execution_count": 3,
   "id": "d88a1500-97a6-4a5b-9325-59b011852086",
   "metadata": {},
   "outputs": [
    {
     "name": "stdout",
     "output_type": "stream",
     "text": [
      "[*********************100%***********************]  10 of 10 completed\n"
     ]
    }
   ],
   "source": [
    "# Place the list of stocks that form your all-weather portfolio in Data Lab 2\n",
    "# Draw data for the past five years\n",
    "\n",
    "symbols_list = [\"AAPL\", \"AMZN\", \"GOOG\", \"BP\", \"KMI\", \"BABA\", \"TCEHY\", \"BYDDY\", \"PAAS\", \"CCJ\"]  \n",
    "trading_days_per_year = 252\n",
    "\n",
    "start = dt.datetime(2017,8,31)\n",
    "end = dt.datetime(2022,8,31)\n",
    "data = yf.download(symbols_list, start=start, end=end)"
   ]
  },
  {
   "cell_type": "code",
   "execution_count": 4,
   "id": "ba37276e-d8ff-4209-8982-fa5ac3364297",
   "metadata": {},
   "outputs": [],
   "source": [
    "prices = data['Adj Close']"
   ]
  },
  {
   "cell_type": "code",
   "execution_count": 5,
   "id": "4a892d78-11ac-4341-91e8-6a82c010e1cc",
   "metadata": {},
   "outputs": [],
   "source": [
    "# Calculate return using method pct_change\n",
    "\n",
    "daily_returns = prices.pct_change()"
   ]
  },
  {
   "cell_type": "code",
   "execution_count": 6,
   "id": "27e43f5a-a4d2-430d-b0f5-7d202149601c",
   "metadata": {},
   "outputs": [
    {
     "data": {
      "text/html": [
       "<div>\n",
       "<style scoped>\n",
       "    .dataframe tbody tr th:only-of-type {\n",
       "        vertical-align: middle;\n",
       "    }\n",
       "\n",
       "    .dataframe tbody tr th {\n",
       "        vertical-align: top;\n",
       "    }\n",
       "\n",
       "    .dataframe thead th {\n",
       "        text-align: right;\n",
       "    }\n",
       "</style>\n",
       "<table border=\"1\" class=\"dataframe\">\n",
       "  <thead>\n",
       "    <tr style=\"text-align: right;\">\n",
       "      <th></th>\n",
       "      <th>AAPL</th>\n",
       "      <th>AMZN</th>\n",
       "      <th>BABA</th>\n",
       "      <th>BP</th>\n",
       "      <th>BYDDY</th>\n",
       "      <th>CCJ</th>\n",
       "      <th>GOOG</th>\n",
       "      <th>KMI</th>\n",
       "      <th>PAAS</th>\n",
       "      <th>TCEHY</th>\n",
       "    </tr>\n",
       "    <tr>\n",
       "      <th>Date</th>\n",
       "      <th></th>\n",
       "      <th></th>\n",
       "      <th></th>\n",
       "      <th></th>\n",
       "      <th></th>\n",
       "      <th></th>\n",
       "      <th></th>\n",
       "      <th></th>\n",
       "      <th></th>\n",
       "      <th></th>\n",
       "    </tr>\n",
       "  </thead>\n",
       "  <tbody>\n",
       "    <tr>\n",
       "      <th>2017-08-31 00:00:00-04:00</th>\n",
       "      <td>NaN</td>\n",
       "      <td>NaN</td>\n",
       "      <td>NaN</td>\n",
       "      <td>NaN</td>\n",
       "      <td>NaN</td>\n",
       "      <td>NaN</td>\n",
       "      <td>NaN</td>\n",
       "      <td>NaN</td>\n",
       "      <td>NaN</td>\n",
       "      <td>NaN</td>\n",
       "    </tr>\n",
       "    <tr>\n",
       "      <th>2017-09-01 00:00:00-04:00</th>\n",
       "      <td>0.000305</td>\n",
       "      <td>-0.002396</td>\n",
       "      <td>-0.004076</td>\n",
       "      <td>0.001152</td>\n",
       "      <td>0.001672</td>\n",
       "      <td>-0.001994</td>\n",
       "      <td>-0.002119</td>\n",
       "      <td>0.001552</td>\n",
       "      <td>0.001072</td>\n",
       "      <td>-0.007796</td>\n",
       "    </tr>\n",
       "    <tr>\n",
       "      <th>2017-09-05 00:00:00-04:00</th>\n",
       "      <td>-0.012008</td>\n",
       "      <td>-0.013269</td>\n",
       "      <td>-0.006548</td>\n",
       "      <td>0.005177</td>\n",
       "      <td>-0.010851</td>\n",
       "      <td>-0.004995</td>\n",
       "      <td>-0.009484</td>\n",
       "      <td>-0.000516</td>\n",
       "      <td>0.025161</td>\n",
       "      <td>-0.025476</td>\n",
       "    </tr>\n",
       "    <tr>\n",
       "      <th>2017-09-06 00:00:00-04:00</th>\n",
       "      <td>-0.001049</td>\n",
       "      <td>0.002621</td>\n",
       "      <td>-0.010476</td>\n",
       "      <td>0.010587</td>\n",
       "      <td>0.016878</td>\n",
       "      <td>0.011044</td>\n",
       "      <td>-0.000689</td>\n",
       "      <td>-0.001034</td>\n",
       "      <td>-0.019321</td>\n",
       "      <td>0.020278</td>\n",
       "    </tr>\n",
       "    <tr>\n",
       "      <th>2017-09-07 00:00:00-04:00</th>\n",
       "      <td>-0.004015</td>\n",
       "      <td>0.012058</td>\n",
       "      <td>0.013917</td>\n",
       "      <td>0.005096</td>\n",
       "      <td>0.006639</td>\n",
       "      <td>0.005959</td>\n",
       "      <td>0.008773</td>\n",
       "      <td>-0.009829</td>\n",
       "      <td>0.010117</td>\n",
       "      <td>-0.008621</td>\n",
       "    </tr>\n",
       "  </tbody>\n",
       "</table>\n",
       "</div>"
      ],
      "text/plain": [
       "                               AAPL      AMZN      BABA        BP     BYDDY  \\\n",
       "Date                                                                          \n",
       "2017-08-31 00:00:00-04:00       NaN       NaN       NaN       NaN       NaN   \n",
       "2017-09-01 00:00:00-04:00  0.000305 -0.002396 -0.004076  0.001152  0.001672   \n",
       "2017-09-05 00:00:00-04:00 -0.012008 -0.013269 -0.006548  0.005177 -0.010851   \n",
       "2017-09-06 00:00:00-04:00 -0.001049  0.002621 -0.010476  0.010587  0.016878   \n",
       "2017-09-07 00:00:00-04:00 -0.004015  0.012058  0.013917  0.005096  0.006639   \n",
       "\n",
       "                                CCJ      GOOG       KMI      PAAS     TCEHY  \n",
       "Date                                                                         \n",
       "2017-08-31 00:00:00-04:00       NaN       NaN       NaN       NaN       NaN  \n",
       "2017-09-01 00:00:00-04:00 -0.001994 -0.002119  0.001552  0.001072 -0.007796  \n",
       "2017-09-05 00:00:00-04:00 -0.004995 -0.009484 -0.000516  0.025161 -0.025476  \n",
       "2017-09-06 00:00:00-04:00  0.011044 -0.000689 -0.001034 -0.019321  0.020278  \n",
       "2017-09-07 00:00:00-04:00  0.005959  0.008773 -0.009829  0.010117 -0.008621  "
      ]
     },
     "execution_count": 6,
     "metadata": {},
     "output_type": "execute_result"
    }
   ],
   "source": [
    "daily_returns.head()"
   ]
  },
  {
   "cell_type": "code",
   "execution_count": 7,
   "id": "d4e264c7",
   "metadata": {},
   "outputs": [],
   "source": [
    "# function that takes portfolio weights and creates a time-series of daily portfolio returns\n",
    "def portfolio_return_series(daily_returns, weights):\n",
    "    \n",
    "    ''' \n",
    "    INPUTS\n",
    "    daily returns: dataframe of daily returns. Each ticker column contains the series of daily returns for the ticker\n",
    "    weights: numpy array of the portfolio weight on each ticker (sorted in ascending order)\n",
    "    \n",
    "    OUTPUTS\n",
    "    portfolio_daily_returns: the portfolio return series given the weights\n",
    "    portfolio_cumulative_returns: the portfolio cumulative return series given the weights\n",
    "    '''    \n",
    "\n",
    "    # Portfolio daily returns\n",
    "    portfolio_daily_returns = daily_returns.dot(weights)\n",
    "    \n",
    "    # Cumulative Portfolio Returns\n",
    "    portfolio_cumulative_returns = (1 + portfolio_daily_returns).cumprod()\n",
    "\n",
    "    return portfolio_daily_returns, portfolio_cumulative_returns"
   ]
  },
  {
   "cell_type": "code",
   "execution_count": 8,
   "id": "46c06790",
   "metadata": {},
   "outputs": [],
   "source": [
    "# Install PyPortfolioOpt package\n",
    "# Once installed, comment this out\n",
    "# !pip install PyPortfolioOpt\n",
    "\n",
    "# Import the packages \n",
    "from pypfopt import risk_models\n",
    "from pypfopt import expected_returns\n",
    "from pypfopt.efficient_frontier import EfficientFrontier"
   ]
  },
  {
   "cell_type": "code",
   "execution_count": 9,
   "id": "fc7a3934",
   "metadata": {},
   "outputs": [
    {
     "data": {
      "text/html": [
       "<div>\n",
       "<style scoped>\n",
       "    .dataframe tbody tr th:only-of-type {\n",
       "        vertical-align: middle;\n",
       "    }\n",
       "\n",
       "    .dataframe tbody tr th {\n",
       "        vertical-align: top;\n",
       "    }\n",
       "\n",
       "    .dataframe thead th {\n",
       "        text-align: right;\n",
       "    }\n",
       "</style>\n",
       "<table border=\"1\" class=\"dataframe\">\n",
       "  <thead>\n",
       "    <tr style=\"text-align: right;\">\n",
       "      <th></th>\n",
       "      <th>AAPL</th>\n",
       "      <th>AMZN</th>\n",
       "      <th>BABA</th>\n",
       "      <th>BP</th>\n",
       "      <th>BYDDY</th>\n",
       "      <th>CCJ</th>\n",
       "      <th>GOOG</th>\n",
       "      <th>KMI</th>\n",
       "      <th>PAAS</th>\n",
       "      <th>TCEHY</th>\n",
       "    </tr>\n",
       "    <tr>\n",
       "      <th>Date</th>\n",
       "      <th></th>\n",
       "      <th></th>\n",
       "      <th></th>\n",
       "      <th></th>\n",
       "      <th></th>\n",
       "      <th></th>\n",
       "      <th></th>\n",
       "      <th></th>\n",
       "      <th></th>\n",
       "      <th></th>\n",
       "    </tr>\n",
       "  </thead>\n",
       "  <tbody>\n",
       "    <tr>\n",
       "      <th>2017-08-31 00:00:00-04:00</th>\n",
       "      <td>38.788013</td>\n",
       "      <td>49.029999</td>\n",
       "      <td>171.740005</td>\n",
       "      <td>25.433840</td>\n",
       "      <td>11.830295</td>\n",
       "      <td>9.631618</td>\n",
       "      <td>46.966499</td>\n",
       "      <td>14.199035</td>\n",
       "      <td>17.382149</td>\n",
       "      <td>39.583214</td>\n",
       "    </tr>\n",
       "    <tr>\n",
       "      <th>2017-09-01 00:00:00-04:00</th>\n",
       "      <td>38.799835</td>\n",
       "      <td>48.912498</td>\n",
       "      <td>171.039993</td>\n",
       "      <td>25.463137</td>\n",
       "      <td>11.850078</td>\n",
       "      <td>9.612412</td>\n",
       "      <td>46.867001</td>\n",
       "      <td>14.221072</td>\n",
       "      <td>17.400776</td>\n",
       "      <td>39.274628</td>\n",
       "    </tr>\n",
       "    <tr>\n",
       "      <th>2017-09-05 00:00:00-04:00</th>\n",
       "      <td>38.333912</td>\n",
       "      <td>48.263500</td>\n",
       "      <td>169.919998</td>\n",
       "      <td>25.594954</td>\n",
       "      <td>11.721490</td>\n",
       "      <td>9.564399</td>\n",
       "      <td>46.422501</td>\n",
       "      <td>14.213728</td>\n",
       "      <td>17.838596</td>\n",
       "      <td>38.274059</td>\n",
       "    </tr>\n",
       "    <tr>\n",
       "      <th>2017-09-06 00:00:00-04:00</th>\n",
       "      <td>38.293705</td>\n",
       "      <td>48.389999</td>\n",
       "      <td>168.139999</td>\n",
       "      <td>25.865915</td>\n",
       "      <td>11.919321</td>\n",
       "      <td>9.670028</td>\n",
       "      <td>46.390499</td>\n",
       "      <td>14.199035</td>\n",
       "      <td>17.493933</td>\n",
       "      <td>39.050198</td>\n",
       "    </tr>\n",
       "    <tr>\n",
       "      <th>2017-09-07 00:00:00-04:00</th>\n",
       "      <td>38.139973</td>\n",
       "      <td>48.973499</td>\n",
       "      <td>170.479996</td>\n",
       "      <td>25.997734</td>\n",
       "      <td>11.998453</td>\n",
       "      <td>9.727647</td>\n",
       "      <td>46.797501</td>\n",
       "      <td>14.059467</td>\n",
       "      <td>17.670919</td>\n",
       "      <td>38.713554</td>\n",
       "    </tr>\n",
       "    <tr>\n",
       "      <th>...</th>\n",
       "      <td>...</td>\n",
       "      <td>...</td>\n",
       "      <td>...</td>\n",
       "      <td>...</td>\n",
       "      <td>...</td>\n",
       "      <td>...</td>\n",
       "      <td>...</td>\n",
       "      <td>...</td>\n",
       "      <td>...</td>\n",
       "      <td>...</td>\n",
       "    </tr>\n",
       "    <tr>\n",
       "      <th>2022-08-24 00:00:00-04:00</th>\n",
       "      <td>166.997574</td>\n",
       "      <td>133.800003</td>\n",
       "      <td>92.519997</td>\n",
       "      <td>31.635138</td>\n",
       "      <td>67.070000</td>\n",
       "      <td>26.905800</td>\n",
       "      <td>114.699997</td>\n",
       "      <td>18.621677</td>\n",
       "      <td>16.318720</td>\n",
       "      <td>38.073009</td>\n",
       "    </tr>\n",
       "    <tr>\n",
       "      <th>2022-08-25 00:00:00-04:00</th>\n",
       "      <td>169.489624</td>\n",
       "      <td>137.279999</td>\n",
       "      <td>99.889999</td>\n",
       "      <td>32.007431</td>\n",
       "      <td>68.010002</td>\n",
       "      <td>27.144873</td>\n",
       "      <td>117.699997</td>\n",
       "      <td>18.679869</td>\n",
       "      <td>16.427246</td>\n",
       "      <td>40.151787</td>\n",
       "    </tr>\n",
       "    <tr>\n",
       "      <th>2022-08-26 00:00:00-04:00</th>\n",
       "      <td>163.099991</td>\n",
       "      <td>130.750000</td>\n",
       "      <td>98.000000</td>\n",
       "      <td>31.674326</td>\n",
       "      <td>67.470001</td>\n",
       "      <td>26.557150</td>\n",
       "      <td>111.300003</td>\n",
       "      <td>18.418001</td>\n",
       "      <td>15.677416</td>\n",
       "      <td>39.164604</td>\n",
       "    </tr>\n",
       "    <tr>\n",
       "      <th>2022-08-29 00:00:00-04:00</th>\n",
       "      <td>160.867126</td>\n",
       "      <td>129.789993</td>\n",
       "      <td>96.599998</td>\n",
       "      <td>31.811487</td>\n",
       "      <td>69.680000</td>\n",
       "      <td>29.027582</td>\n",
       "      <td>110.339996</td>\n",
       "      <td>18.369509</td>\n",
       "      <td>15.440626</td>\n",
       "      <td>38.680508</td>\n",
       "    </tr>\n",
       "    <tr>\n",
       "      <th>2022-08-30 00:00:00-04:00</th>\n",
       "      <td>158.404984</td>\n",
       "      <td>128.729996</td>\n",
       "      <td>93.839996</td>\n",
       "      <td>30.782782</td>\n",
       "      <td>64.180000</td>\n",
       "      <td>29.565498</td>\n",
       "      <td>109.910004</td>\n",
       "      <td>17.923365</td>\n",
       "      <td>14.957182</td>\n",
       "      <td>37.968594</td>\n",
       "    </tr>\n",
       "  </tbody>\n",
       "</table>\n",
       "<p>1258 rows × 10 columns</p>\n",
       "</div>"
      ],
      "text/plain": [
       "                                 AAPL        AMZN        BABA         BP  \\\n",
       "Date                                                                       \n",
       "2017-08-31 00:00:00-04:00   38.788013   49.029999  171.740005  25.433840   \n",
       "2017-09-01 00:00:00-04:00   38.799835   48.912498  171.039993  25.463137   \n",
       "2017-09-05 00:00:00-04:00   38.333912   48.263500  169.919998  25.594954   \n",
       "2017-09-06 00:00:00-04:00   38.293705   48.389999  168.139999  25.865915   \n",
       "2017-09-07 00:00:00-04:00   38.139973   48.973499  170.479996  25.997734   \n",
       "...                               ...         ...         ...        ...   \n",
       "2022-08-24 00:00:00-04:00  166.997574  133.800003   92.519997  31.635138   \n",
       "2022-08-25 00:00:00-04:00  169.489624  137.279999   99.889999  32.007431   \n",
       "2022-08-26 00:00:00-04:00  163.099991  130.750000   98.000000  31.674326   \n",
       "2022-08-29 00:00:00-04:00  160.867126  129.789993   96.599998  31.811487   \n",
       "2022-08-30 00:00:00-04:00  158.404984  128.729996   93.839996  30.782782   \n",
       "\n",
       "                               BYDDY        CCJ        GOOG        KMI  \\\n",
       "Date                                                                     \n",
       "2017-08-31 00:00:00-04:00  11.830295   9.631618   46.966499  14.199035   \n",
       "2017-09-01 00:00:00-04:00  11.850078   9.612412   46.867001  14.221072   \n",
       "2017-09-05 00:00:00-04:00  11.721490   9.564399   46.422501  14.213728   \n",
       "2017-09-06 00:00:00-04:00  11.919321   9.670028   46.390499  14.199035   \n",
       "2017-09-07 00:00:00-04:00  11.998453   9.727647   46.797501  14.059467   \n",
       "...                              ...        ...         ...        ...   \n",
       "2022-08-24 00:00:00-04:00  67.070000  26.905800  114.699997  18.621677   \n",
       "2022-08-25 00:00:00-04:00  68.010002  27.144873  117.699997  18.679869   \n",
       "2022-08-26 00:00:00-04:00  67.470001  26.557150  111.300003  18.418001   \n",
       "2022-08-29 00:00:00-04:00  69.680000  29.027582  110.339996  18.369509   \n",
       "2022-08-30 00:00:00-04:00  64.180000  29.565498  109.910004  17.923365   \n",
       "\n",
       "                                PAAS      TCEHY  \n",
       "Date                                             \n",
       "2017-08-31 00:00:00-04:00  17.382149  39.583214  \n",
       "2017-09-01 00:00:00-04:00  17.400776  39.274628  \n",
       "2017-09-05 00:00:00-04:00  17.838596  38.274059  \n",
       "2017-09-06 00:00:00-04:00  17.493933  39.050198  \n",
       "2017-09-07 00:00:00-04:00  17.670919  38.713554  \n",
       "...                              ...        ...  \n",
       "2022-08-24 00:00:00-04:00  16.318720  38.073009  \n",
       "2022-08-25 00:00:00-04:00  16.427246  40.151787  \n",
       "2022-08-26 00:00:00-04:00  15.677416  39.164604  \n",
       "2022-08-29 00:00:00-04:00  15.440626  38.680508  \n",
       "2022-08-30 00:00:00-04:00  14.957182  37.968594  \n",
       "\n",
       "[1258 rows x 10 columns]"
      ]
     },
     "execution_count": 9,
     "metadata": {},
     "output_type": "execute_result"
    }
   ],
   "source": [
    "prices"
   ]
  },
  {
   "cell_type": "markdown",
   "id": "31efa4ea",
   "metadata": {},
   "source": [
    "The Maximum Sharpe Portfolio"
   ]
  },
  {
   "cell_type": "code",
   "execution_count": 9,
   "id": "7d37da38",
   "metadata": {},
   "outputs": [
    {
     "name": "stdout",
     "output_type": "stream",
     "text": [
      "OrderedDict([('AAPL', 0.68484), ('AMZN', 0.0), ('BABA', 0.0), ('BP', 0.0), ('BYDDY', 0.20913), ('CCJ', 0.10603), ('GOOG', 0.0), ('KMI', 0.0), ('PAAS', 0.0), ('TCEHY', 0.0)])\n"
     ]
    }
   ],
   "source": [
    "# Calculate expected returns mu \n",
    "mu = expected_returns.mean_historical_return(prices)\n",
    "\n",
    "# Calculate the covariance matrix sigma\n",
    "sigma = risk_models.sample_cov(prices)\n",
    "\n",
    "# Obtain the efficient frontier\n",
    "ef = EfficientFrontier(mu, sigma)\n",
    "\n",
    "# Calculate weights for the maximum Sharpe ratio portfolio\n",
    "raw_weights_maxsharpe = ef.max_sharpe()\n",
    "cleaned_weights_maxsharpe = ef.clean_weights()\n",
    "optimal_weights_maxsharpe = np.array(list(cleaned_weights_maxsharpe.values()))\n",
    "\n",
    "# Inspect the calculated weights\n",
    "print(cleaned_weights_maxsharpe)"
   ]
  },
  {
   "cell_type": "markdown",
   "id": "3cec4216",
   "metadata": {},
   "source": [
    "The minimum volatility portfolio"
   ]
  },
  {
   "cell_type": "code",
   "execution_count": 34,
   "id": "2c55bb7f",
   "metadata": {},
   "outputs": [
    {
     "name": "stdout",
     "output_type": "stream",
     "text": [
      "OrderedDict([('AAPL', 0.09163), ('AMZN', 0.15241), ('BABA', 0.00783), ('BP', 0.07293), ('BYDDY', 0.01058), ('CCJ', 0.0152), ('GOOG', 0.20008), ('KMI', 0.26248), ('PAAS', 0.10673), ('TCEHY', 0.08013)])\n"
     ]
    }
   ],
   "source": [
    "# Obtain the efficient frontier\n",
    "ef = EfficientFrontier(mu, sigma)\n",
    "\n",
    "# Calculate weights for the minimum volatility portfolio\n",
    "raw_weights_minvolatility = ef.min_volatility()\n",
    "cleaned_weights_minvolatility = ef.clean_weights()\n",
    "optimal_weights_minvolatility = np.array(list(cleaned_weights_minvolatility.values()))\n",
    "\n",
    "# Inspect the calculated weights\n",
    "print(cleaned_weights_minvolatility)"
   ]
  },
  {
   "cell_type": "code",
   "execution_count": 11,
   "id": "47167c00",
   "metadata": {},
   "outputs": [],
   "source": [
    "# 1. Daily portfolio returns for the equally-weighted portfolio\n",
    "equal_weightage = 1 / len(symbols_list)\n",
    "equal_weights = np.repeat(equal_weightage, len(symbols_list))\n",
    "\n",
    "# Extract the first & second elements from the function output for daily returns and cumulative returns\n",
    "ew_daily_returns, ew_cum_returns = portfolio_return_series(daily_returns, equal_weights)\n",
    "\n",
    "\n",
    "# 2. Daily portfolio returns for the maximum Sharpe portfolio\n",
    "# Extract the first & second elements from the function output for daily returns and cumulative returns\n",
    "ms_daily_returns, ms_cum_returns = portfolio_return_series(daily_returns, optimal_weights_maxsharpe)\n",
    "\n",
    "\n",
    "# 3. Daily portfolio returns for the minimum volatility portfolio\n",
    "# Extract the first & second elements from the function output for daily returns and cumulative returns\n",
    "mv_daily_returns, mv_cum_returns = portfolio_return_series(daily_returns, optimal_weights_minvolatility)\n",
    "\n",
    "\n",
    "# Merge the six series side-by-side into a dataframe\n",
    "# Note the index is date\n",
    "portfolio_returns = pd.concat([ew_daily_returns, ew_cum_returns, ms_daily_returns, ms_cum_returns, mv_daily_returns, mv_cum_returns], axis = 1)\n",
    "\n",
    "# Rename column names\n",
    "portfolio_returns.columns = ['E.W. daily', 'E.W. cum', 'M.S. daily', 'M.S. cum', 'M.V. daily', 'M.V. cum']"
   ]
  },
  {
   "cell_type": "code",
   "execution_count": 12,
   "id": "e3c771d0",
   "metadata": {},
   "outputs": [
    {
     "data": {
      "text/html": [
       "<div>\n",
       "<style scoped>\n",
       "    .dataframe tbody tr th:only-of-type {\n",
       "        vertical-align: middle;\n",
       "    }\n",
       "\n",
       "    .dataframe tbody tr th {\n",
       "        vertical-align: top;\n",
       "    }\n",
       "\n",
       "    .dataframe thead th {\n",
       "        text-align: right;\n",
       "    }\n",
       "</style>\n",
       "<table border=\"1\" class=\"dataframe\">\n",
       "  <thead>\n",
       "    <tr style=\"text-align: right;\">\n",
       "      <th></th>\n",
       "      <th>E.W. daily</th>\n",
       "      <th>E.W. cum</th>\n",
       "      <th>M.S. daily</th>\n",
       "      <th>M.S. cum</th>\n",
       "      <th>M.V. daily</th>\n",
       "      <th>M.V. cum</th>\n",
       "    </tr>\n",
       "    <tr>\n",
       "      <th>Date</th>\n",
       "      <th></th>\n",
       "      <th></th>\n",
       "      <th></th>\n",
       "      <th></th>\n",
       "      <th></th>\n",
       "      <th></th>\n",
       "    </tr>\n",
       "  </thead>\n",
       "  <tbody>\n",
       "    <tr>\n",
       "      <th>2017-08-31</th>\n",
       "      <td>0.009126</td>\n",
       "      <td>1.009126</td>\n",
       "      <td>0.002773</td>\n",
       "      <td>1.002773</td>\n",
       "      <td>0.011836</td>\n",
       "      <td>1.011836</td>\n",
       "    </tr>\n",
       "    <tr>\n",
       "      <th>2017-09-01</th>\n",
       "      <td>-0.001263</td>\n",
       "      <td>1.007852</td>\n",
       "      <td>0.000347</td>\n",
       "      <td>1.003121</td>\n",
       "      <td>-0.000825</td>\n",
       "      <td>1.011001</td>\n",
       "    </tr>\n",
       "    <tr>\n",
       "      <th>2017-09-05</th>\n",
       "      <td>-0.005281</td>\n",
       "      <td>1.002529</td>\n",
       "      <td>-0.011023</td>\n",
       "      <td>0.992064</td>\n",
       "      <td>-0.004376</td>\n",
       "      <td>1.006577</td>\n",
       "    </tr>\n",
       "    <tr>\n",
       "      <th>2017-09-06</th>\n",
       "      <td>0.002884</td>\n",
       "      <td>1.005421</td>\n",
       "      <td>0.003982</td>\n",
       "      <td>0.996014</td>\n",
       "      <td>0.000493</td>\n",
       "      <td>1.007074</td>\n",
       "    </tr>\n",
       "    <tr>\n",
       "      <th>2017-09-07</th>\n",
       "      <td>0.004009</td>\n",
       "      <td>1.009452</td>\n",
       "      <td>-0.000729</td>\n",
       "      <td>0.995288</td>\n",
       "      <td>0.001676</td>\n",
       "      <td>1.008761</td>\n",
       "    </tr>\n",
       "  </tbody>\n",
       "</table>\n",
       "</div>"
      ],
      "text/plain": [
       "            E.W. daily  E.W. cum  M.S. daily  M.S. cum  M.V. daily  M.V. cum\n",
       "Date                                                                        \n",
       "2017-08-31    0.009126  1.009126    0.002773  1.002773    0.011836  1.011836\n",
       "2017-09-01   -0.001263  1.007852    0.000347  1.003121   -0.000825  1.011001\n",
       "2017-09-05   -0.005281  1.002529   -0.011023  0.992064   -0.004376  1.006577\n",
       "2017-09-06    0.002884  1.005421    0.003982  0.996014    0.000493  1.007074\n",
       "2017-09-07    0.004009  1.009452   -0.000729  0.995288    0.001676  1.008761"
      ]
     },
     "execution_count": 12,
     "metadata": {},
     "output_type": "execute_result"
    }
   ],
   "source": [
    "# Drop first row as it is NaN\n",
    "portfolio_returns = portfolio_returns.iloc[1: , :]\n",
    "\n",
    "# Inspect the first five rows of the dataframe (e.g., portfolio_returns)\n",
    "portfolio_returns.head()"
   ]
  },
  {
   "cell_type": "markdown",
   "id": "a146d5ef",
   "metadata": {},
   "source": [
    "### 2. Examine visually the drawdown behavior of each portfolio.\n"
   ]
  },
  {
   "cell_type": "code",
   "execution_count": 13,
   "id": "8b6472ac",
   "metadata": {},
   "outputs": [],
   "source": [
    "# function that takes cumulative portfolio returns and creates a time-series of percentage drawdown\n",
    "def portfolio_drawdown(cumulative_portfolio_returns):\n",
    "    \n",
    "    ''' \n",
    "    INPUTS\n",
    "    cumulative_portfolio_returns: the portfolio cumulative return series\n",
    "    \n",
    "    OUTPUTS\n",
    "    percentage drawdown series\n",
    "    \n",
    "    '''    \n",
    "\n",
    "    # Calculate the running maximum\n",
    "    running_max = np.maximum.accumulate(cumulative_portfolio_returns)\n",
    "\n",
    "    # Ensure the value never drops below 1\n",
    "    running_max[running_max < 1] = 1\n",
    "\n",
    "    # Calculate the percentage drawdown\n",
    "    drawdown = cumulative_portfolio_returns / running_max - 1\n",
    "    \n",
    "    return drawdown"
   ]
  },
  {
   "cell_type": "code",
   "execution_count": 14,
   "id": "71acb185",
   "metadata": {},
   "outputs": [],
   "source": [
    "# function that takes in the drawdown series of a portfolio and plots its corresponding line graph\n",
    "def drawdown_visualiser(drawdown, color, portfolio_type):\n",
    "    \n",
    "    ''' \n",
    "    INPUTS\n",
    "    drawdown: percentage drawdown series\n",
    "    color: a string representing the color of the graph\n",
    "    portfolio_type: a string of the portfolio type to use as the title of the graph\n",
    "    '''    \n",
    "\n",
    "    #1 Create Plot\n",
    "    plt.plot(drawdown, color = color)\n",
    "\n",
    "    #2 Customise Plot\n",
    "    plt.xlabel('Year')\n",
    "    plt.ylabel('Percentage Drawdown')\n",
    "    plt.title(portfolio_type)\n",
    "\n",
    "    #3 Show Plot\n",
    "    plt.show()"
   ]
  },
  {
   "cell_type": "code",
   "execution_count": 15,
   "id": "2f553ff9",
   "metadata": {},
   "outputs": [
    {
     "data": {
      "image/png": "[encoded data removed]",
      "text/plain": [
       "<Figure size 432x288 with 1 Axes>"
      ]
     },
     "metadata": {
      "needs_background": "light"
     },
     "output_type": "display_data"
    },
    {
     "data": {
      "image/png": "[encoded data removed]",
      "text/plain": [
       "<Figure size 432x288 with 1 Axes>"
      ]
     },
     "metadata": {
      "needs_background": "light"
     },
     "output_type": "display_data"
    },
    {
     "data": {
      "image/png": "[encoded data removed]",
      "text/plain": [
       "<Figure size 432x288 with 1 Axes>"
      ]
     },
     "metadata": {
      "needs_background": "light"
     },
     "output_type": "display_data"
    }
   ],
   "source": [
    "import matplotlib.pyplot as plt\n",
    "\n",
    "# Extract the percentage drawdown series for the equal weight portfolio\n",
    "ew_drawdown = portfolio_drawdown(portfolio_returns['E.W. cum'])\n",
    "\n",
    "# Extract the percentage drawdown series for the maximum Sharpe portfolio\n",
    "ms_drawdown = portfolio_drawdown(portfolio_returns['M.S. cum'])\n",
    "\n",
    "# Extract the percentage drawdown series for the minimum volatility portfolio\n",
    "mv_drawdown = portfolio_drawdown(portfolio_returns['M.V. cum'])\n",
    "\n",
    "# Plot each drawdown series using the 'drawdown_visualiser' function\n",
    "drawdown_visualiser(ew_drawdown, \"red\", \"Equal Weight Portfolio Drawdown\")\n",
    "drawdown_visualiser(ms_drawdown, \"blue\", \"Maximum Sharpe Portfolio Drawdown\")\n",
    "drawdown_visualiser(mv_drawdown, \"green\", \"Minimum Volatility Portfolio Drawdown\")"
   ]
  },
  {
   "cell_type": "markdown",
   "id": "b6b44e3f",
   "metadata": {},
   "source": [
    "### 3. Calculate the Value-at-Risk of each portfolio at 99% using the empirical (historical) distribution and theoretical distribution. Create graphs that show the empirical distribution with two vertical lines, representing the Value-at-Risk at 99% derived from the empirical and theoretical distribution, respectively.\n"
   ]
  },
  {
   "cell_type": "code",
   "execution_count": 16,
   "id": "4d798629",
   "metadata": {},
   "outputs": [],
   "source": [
    "# Import norm from scipy.stats\n",
    "from scipy.stats import norm\n",
    "\n",
    "# function that takes portfolio weights and creates a time-series of daily portfolio returns\n",
    "def portfolio_var(daily_portfolio_returns, level, portfolio_type):\n",
    "    \n",
    "    ''' \n",
    "    INPUTS\n",
    "    daily_portfolio_returns: the portfolio daily return series\n",
    "    level: tail risk at 90%, 95%, or 99% ## enter 90 for 90% and so on!\n",
    "    portfolio_type: a string of the portfolio type to use as the title of the graph\n",
    "    \n",
    "    OUTPUT\n",
    "    Empirical VaR: Value at Risk of the portfolio using the empirical distribution \n",
    "                   at the specified level (e.g., 90%, 95%, or 99%)\n",
    "    Theoretical VaR: Value at Risk of the portfolio using mathematical formulas (sampling distribution) \n",
    "                     at the specified level (e.g., 90%, 95%, or 99%)\n",
    "    Plot object: empirical distribution of returns with \n",
    "                 two lines indicating the empirical and theoretical VaRs at the specified level\n",
    "    \n",
    "    '''    \n",
    "\n",
    "    # Calculate the tail risk (i.e., 100 - level)\n",
    "    tail_risk = 100 - level\n",
    "    \n",
    "    # Calculate empirical historical VaR at specified level\n",
    "    var_empirical = np.percentile(daily_portfolio_returns, tail_risk)\n",
    "    \n",
    "    # Calculate theoretical VaR at specified level\n",
    "    # Note the norm.ppf function takes argument tail risk of 99% in 0.99, instead of 99\n",
    "    mu = np.mean(daily_portfolio_returns)\n",
    "    vol = np.std(daily_portfolio_returns)\n",
    "    var_theoretical = norm.ppf(tail_risk / 100, mu, vol)\n",
    "    \n",
    "    # Sort the returns for plotting\n",
    "    sorted_daily_portfolio_returns = sorted(daily_portfolio_returns)\n",
    "    \n",
    "    # Plot the probability of each sorted return quantile\n",
    "    plt.hist(sorted_daily_portfolio_returns, density = True, \n",
    "             stacked = True, alpha = 0.3, ec = 'black', bins = 15)\n",
    "\n",
    "    # Denote the VaR 99 quantile and plot the vertical lines\n",
    "    plt.axvline(x = var_empirical, color = 'r', linestyle = '-')\n",
    "    plt.axvline(x = var_theoretical, color = 'g', linestyle = '-')\n",
    "    \n",
    "    plt.xlabel('Returns (%)')\n",
    "    plt.ylabel('Probability')\n",
    "    plt.xlim(-0.10,0.10)\n",
    "    plt.title(portfolio_type)\n",
    "    \n",
    "    plt.show()\n",
    "    \n",
    "    print(\"Tail Risk: \" + str(tail_risk) + \"%\")\n",
    "    print(\"Var Empirical: \" + str(var_empirical))\n",
    "    print(\"Var Theoretical: \" + str(var_theoretical))\n",
    "    \n",
    "    return tail_risk, var_empirical, var_theoretical"
   ]
  },
  {
   "cell_type": "code",
   "execution_count": 17,
   "id": "fe29204b",
   "metadata": {},
   "outputs": [
    {
     "data": {
      "image/png": "[encoded data removed]",
      "text/plain": [
       "<Figure size 432x288 with 1 Axes>"
      ]
     },
     "metadata": {
      "needs_background": "light"
     },
     "output_type": "display_data"
    },
    {
     "name": "stdout",
     "output_type": "stream",
     "text": [
      "Tail Risk: 1%\n",
      "Var Empirical: -0.03957283433516163\n",
      "Var Theoretical: -0.036150961766913875\n"
     ]
    }
   ],
   "source": [
    "# Call the function to calculate and plot VaR for the Equally Weighted Portfolio at 99%\n",
    "ew_tail_risk, ew_var_empirical, ew_var_theoretical = portfolio_var(portfolio_returns['E.W. daily'], 99, \"Equal Weight Portfolio\")"
   ]
  },
  {
   "cell_type": "code",
   "execution_count": 18,
   "id": "3f4117fb",
   "metadata": {},
   "outputs": [
    {
     "data": {
      "image/png": "[encoded data removed]",
      "text/plain": [
       "<Figure size 432x288 with 1 Axes>"
      ]
     },
     "metadata": {
      "needs_background": "light"
     },
     "output_type": "display_data"
    },
    {
     "name": "stdout",
     "output_type": "stream",
     "text": [
      "Tail Risk: 1%\n",
      "Var Empirical: -0.049988598199676396\n",
      "Var Theoretical: -0.04261609457954742\n"
     ]
    }
   ],
   "source": [
    "# Call the function to calculate and plot VaR for the Maximum Sharpe Portfolio at 99%\n",
    "ms_tail_risk, ms_var_empirical, ms_var_theoretical = portfolio_var(portfolio_returns['M.S. daily'], 99, \"Maximum Sharpe Portfolio\")"
   ]
  },
  {
   "cell_type": "code",
   "execution_count": 19,
   "id": "114c8850",
   "metadata": {},
   "outputs": [
    {
     "data": {
      "image/png": "[encoded data removed]",
      "text/plain": [
       "<Figure size 432x288 with 1 Axes>"
      ]
     },
     "metadata": {
      "needs_background": "light"
     },
     "output_type": "display_data"
    },
    {
     "name": "stdout",
     "output_type": "stream",
     "text": [
      "Tail Risk: 1%\n",
      "Var Empirical: -0.04181760735393914\n",
      "Var Theoretical: -0.03383339696800777\n"
     ]
    }
   ],
   "source": [
    "# Call the function to calculate and plot VaR for the Minimum Volatility Portfolio at 99%\n",
    "mv_tail_risk, mv_var_empirical, mv_var_theoretical = portfolio_var(portfolio_returns['M.V. daily'], 99, \"Minimum Volatility Portfolio\")"
   ]
  },
  {
   "cell_type": "markdown",
   "id": "94c6c373",
   "metadata": {},
   "source": [
    "### 4. Is the portfolio return for the maximum Sharpe portfolio statistically different from that of the equally-weighted portfolio?"
   ]
  },
  {
   "cell_type": "code",
   "execution_count": 20,
   "id": "e8bd35e5",
   "metadata": {},
   "outputs": [],
   "source": [
    "# Install Pingouin\n",
    "# Once installed, you can comment this out\n",
    "# !pip install pingouin"
   ]
  },
  {
   "cell_type": "code",
   "execution_count": 12,
   "id": "7f8c4767",
   "metadata": {},
   "outputs": [
    {
     "data": {
      "text/plain": [
       "['__builtins__',\n",
       " '__cached__',\n",
       " '__doc__',\n",
       " '__file__',\n",
       " '__loader__',\n",
       " '__name__',\n",
       " '__package__',\n",
       " '__path__',\n",
       " '__spec__',\n",
       " '__version__',\n",
       " '_check_dataframe',\n",
       " '_check_eftype',\n",
       " '_flatten_list',\n",
       " '_is_mpmath_installed',\n",
       " '_is_sklearn_installed',\n",
       " '_is_statsmodels_installed',\n",
       " '_perm_pval',\n",
       " '_postprocess_dataframe',\n",
       " 'ancova',\n",
       " 'anderson',\n",
       " 'anova',\n",
       " 'bayesfactor_binom',\n",
       " 'bayesfactor_pearson',\n",
       " 'bayesfactor_ttest',\n",
       " 'bayesian',\n",
       " 'box_m',\n",
       " 'chi2_independence',\n",
       " 'chi2_mcnemar',\n",
       " 'circ_axial',\n",
       " 'circ_corrcc',\n",
       " 'circ_corrcl',\n",
       " 'circ_mean',\n",
       " 'circ_r',\n",
       " 'circ_rayleigh',\n",
       " 'circ_vtest',\n",
       " 'circular',\n",
       " 'cochran',\n",
       " 'compute_bootci',\n",
       " 'compute_effsize',\n",
       " 'compute_effsize_from_t',\n",
       " 'compute_esci',\n",
       " 'config',\n",
       " 'contingency',\n",
       " 'convert_angles',\n",
       " 'convert_effsize',\n",
       " 'corr',\n",
       " 'correlation',\n",
       " 'cronbach_alpha',\n",
       " 'datasets',\n",
       " 'dichotomous_crosstab',\n",
       " 'distance_corr',\n",
       " 'distribution',\n",
       " 'effsize',\n",
       " 'epsilon',\n",
       " 'equivalence',\n",
       " 'friedman',\n",
       " 'gzscore',\n",
       " 'harrelldavis',\n",
       " 'homoscedasticity',\n",
       " 'intraclass_corr',\n",
       " 'kruskal',\n",
       " 'linear_regression',\n",
       " 'list_dataset',\n",
       " 'logistic_regression',\n",
       " 'mad',\n",
       " 'madmedianrule',\n",
       " 'mediation_analysis',\n",
       " 'mixed_anova',\n",
       " 'multicomp',\n",
       " 'multivariate',\n",
       " 'multivariate_normality',\n",
       " 'multivariate_ttest',\n",
       " 'mwu',\n",
       " 'nonparametric',\n",
       " 'normality',\n",
       " 'options',\n",
       " 'pairwise',\n",
       " 'pairwise_corr',\n",
       " 'pairwise_gameshowell',\n",
       " 'pairwise_tests',\n",
       " 'pairwise_ttests',\n",
       " 'pairwise_tukey',\n",
       " 'parametric',\n",
       " 'partial_corr',\n",
       " 'pcorr',\n",
       " 'plot_blandaltman',\n",
       " 'plot_circmean',\n",
       " 'plot_paired',\n",
       " 'plot_rm_corr',\n",
       " 'plot_shift',\n",
       " 'plotting',\n",
       " 'power',\n",
       " 'power_anova',\n",
       " 'power_chi2',\n",
       " 'power_corr',\n",
       " 'power_rm_anova',\n",
       " 'power_ttest',\n",
       " 'power_ttest2n',\n",
       " 'print_table',\n",
       " 'qqplot',\n",
       " 'rcorr',\n",
       " 'read_dataset',\n",
       " 'regression',\n",
       " 'reliability',\n",
       " 'remove_na',\n",
       " 'rm_anova',\n",
       " 'rm_corr',\n",
       " 'set_default_options',\n",
       " 'sphericity',\n",
       " 'tost',\n",
       " 'ttest',\n",
       " 'utils',\n",
       " 'warn_if_outdated',\n",
       " 'welch_anova',\n",
       " 'wilcoxon']"
      ]
     },
     "execution_count": 12,
     "metadata": {},
     "output_type": "execute_result"
    },
    {
     "name": "stderr",
     "output_type": "stream",
     "text": [
      "/Users/lucatriglia/opt/anaconda3/lib/python3.9/site-packages/outdated/utils.py:14: OutdatedPackageWarning: The package outdated is out of date. Your version is 0.2.1, the latest is 0.2.2.\n",
      "Set the environment variable OUTDATED_IGNORE=1 to disable these warnings.\n",
      "  return warn(\n"
     ]
    }
   ],
   "source": [
    "# Import pingouin - a simple but powerful statistical package\n",
    "import pingouin as pg\n",
    "\n",
    "dir(pg)"
   ]
  },
  {
   "cell_type": "code",
   "execution_count": 22,
   "id": "bbc24911",
   "metadata": {},
   "outputs": [
    {
     "name": "stdout",
     "output_type": "stream",
     "text": [
      "Help on function ttest in module pingouin.parametric:\n",
      "\n",
      "ttest(x, y, paired=False, alternative='two-sided', correction='auto', r=0.707, confidence=0.95)\n",
      "    T-test.\n",
      "    \n",
      "    Parameters\n",
      "    ----------\n",
      "    x : array_like\n",
      "        First set of observations.\n",
      "    y : array_like or float\n",
      "        Second set of observations. If ``y`` is a single value, a one-sample\n",
      "        T-test is computed against that value (= \"mu\" in the t.test R\n",
      "        function).\n",
      "    paired : boolean\n",
      "        Specify whether the two observations are related (i.e. repeated\n",
      "        measures) or independent.\n",
      "    alternative : string\n",
      "        Defines the alternative hypothesis, or tail of the test. Must be one of\n",
      "        \"two-sided\" (default), \"greater\" or \"less\". Both \"greater\" and \"less\" return one-sided\n",
      "        p-values. \"greater\" tests against the alternative hypothesis that the mean of ``x``\n",
      "        is greater than the mean of ``y``.\n",
      "    correction : string or boolean\n",
      "        For unpaired two sample T-tests, specify whether or not to correct for\n",
      "        unequal variances using Welch separate variances T-test. If 'auto', it\n",
      "        will automatically uses Welch T-test when the sample sizes are unequal,\n",
      "        as recommended by Zimmerman 2004.\n",
      "    r : float\n",
      "        Cauchy scale factor for computing the Bayes Factor.\n",
      "        Smaller values of r (e.g. 0.5), may be appropriate when small effect\n",
      "        sizes are expected a priori; larger values of r are appropriate when\n",
      "        large effect sizes are expected (Rouder et al 2009).\n",
      "        The default is 0.707 (= :math:`\\sqrt{2} / 2`).\n",
      "    confidence : float\n",
      "        Confidence level for the confidence intervals (0.95 = 95%)\n",
      "    \n",
      "        .. versionadded:: 0.3.9\n",
      "    \n",
      "    Returns\n",
      "    -------\n",
      "    stats : :py:class:`pandas.DataFrame`\n",
      "    \n",
      "        * ``'T'``: T-value\n",
      "        * ``'dof'``: degrees of freedom\n",
      "        * ``'alternative'``: alternative of the test\n",
      "        * ``'p-val'``: p-value\n",
      "        * ``'CI95%'``: confidence intervals of the difference in means\n",
      "        * ``'cohen-d'``: Cohen d effect size\n",
      "        * ``'BF10'``: Bayes Factor of the alternative hypothesis\n",
      "        * ``'power'``: achieved power of the test ( = 1 - type II error)\n",
      "    \n",
      "    See also\n",
      "    --------\n",
      "    mwu, wilcoxon, anova, rm_anova, pairwise_tests, compute_effsize\n",
      "    \n",
      "    Notes\n",
      "    -----\n",
      "    Missing values are automatically removed from the data. If ``x`` and\n",
      "    ``y`` are paired, the entire row is removed (= listwise deletion).\n",
      "    \n",
      "    The **T-value for unpaired samples** is defined as:\n",
      "    \n",
      "    .. math::\n",
      "    \n",
      "        t = \\frac{\\overline{x} - \\overline{y}}\n",
      "        {\\sqrt{\\frac{s^{2}_{x}}{n_{x}} + \\frac{s^{2}_{y}}{n_{y}}}}\n",
      "    \n",
      "    where :math:`\\overline{x}` and :math:`\\overline{y}` are the sample means,\n",
      "    :math:`n_{x}` and :math:`n_{y}` are the sample sizes, and\n",
      "    :math:`s^{2}_{x}` and :math:`s^{2}_{y}` are the sample variances.\n",
      "    The degrees of freedom :math:`v` are :math:`n_x + n_y - 2` when the sample\n",
      "    sizes are equal. When the sample sizes are unequal or when\n",
      "    :code:`correction=True`, the Welch–Satterthwaite equation is used to\n",
      "    approximate the adjusted degrees of freedom:\n",
      "    \n",
      "    .. math::\n",
      "    \n",
      "        v = \\frac{(\\frac{s^{2}_{x}}{n_{x}} + \\frac{s^{2}_{y}}{n_{y}})^{2}}\n",
      "        {\\frac{(\\frac{s^{2}_{x}}{n_{x}})^{2}}{(n_{x}-1)} +\n",
      "        \\frac{(\\frac{s^{2}_{y}}{n_{y}})^{2}}{(n_{y}-1)}}\n",
      "    \n",
      "    The p-value is then calculated using a T distribution with :math:`v`\n",
      "    degrees of freedom.\n",
      "    \n",
      "    The T-value for **paired samples** is defined by:\n",
      "    \n",
      "    .. math:: t = \\frac{\\overline{x}_d}{s_{\\overline{x}}}\n",
      "    \n",
      "    where\n",
      "    \n",
      "    .. math:: s_{\\overline{x}} = \\frac{s_d}{\\sqrt n}\n",
      "    \n",
      "    where :math:`\\overline{x}_d` is the sample mean of the differences\n",
      "    between the two paired samples, :math:`n` is the number of observations\n",
      "    (sample size), :math:`s_d` is the sample standard deviation of the\n",
      "    differences and :math:`s_{\\overline{x}}` is the estimated standard error\n",
      "    of the mean of the differences. The p-value is then calculated using a\n",
      "    T-distribution with :math:`n-1` degrees of freedom.\n",
      "    \n",
      "    The scaled Jeffrey-Zellner-Siow (JZS) Bayes Factor is approximated\n",
      "    using the :py:func:`pingouin.bayesfactor_ttest` function.\n",
      "    \n",
      "    Results have been tested against JASP and the `t.test` R function.\n",
      "    \n",
      "    References\n",
      "    ----------\n",
      "    * https://www.itl.nist.gov/div898/handbook/eda/section3/eda353.htm\n",
      "    \n",
      "    * Delacre, M., Lakens, D., & Leys, C. (2017). Why psychologists should\n",
      "      by default use Welch’s t-test instead of Student’s t-test.\n",
      "      International Review of Social Psychology, 30(1).\n",
      "    \n",
      "    * Zimmerman, D. W. (2004). A note on preliminary tests of equality of\n",
      "      variances. British Journal of Mathematical and Statistical\n",
      "      Psychology, 57(1), 173-181.\n",
      "    \n",
      "    * Rouder, J.N., Speckman, P.L., Sun, D., Morey, R.D., Iverson, G.,\n",
      "      2009. Bayesian t tests for accepting and rejecting the null\n",
      "      hypothesis. Psychon. Bull. Rev. 16, 225–237.\n",
      "      https://doi.org/10.3758/PBR.16.2.225\n",
      "    \n",
      "    Examples\n",
      "    --------\n",
      "    1. One-sample T-test.\n",
      "    \n",
      "    >>> from pingouin import ttest\n",
      "    >>> x = [5.5, 2.4, 6.8, 9.6, 4.2]\n",
      "    >>> ttest(x, 4).round(2)\n",
      "              T  dof alternative  p-val         CI95%  cohen-d   BF10  power\n",
      "    T-test  1.4    4   two-sided   0.23  [2.32, 9.08]     0.62  0.766   0.19\n",
      "    \n",
      "    2. One sided paired T-test.\n",
      "    \n",
      "    >>> pre = [5.5, 2.4, 6.8, 9.6, 4.2]\n",
      "    >>> post = [6.4, 3.4, 6.4, 11., 4.8]\n",
      "    >>> ttest(pre, post, paired=True, alternative='less').round(2)\n",
      "               T  dof alternative  p-val          CI95%  cohen-d   BF10  power\n",
      "    T-test -2.31    4        less   0.04  [-inf, -0.05]     0.25  3.122   0.12\n",
      "    \n",
      "    Now testing the opposite alternative hypothesis\n",
      "    \n",
      "    >>> ttest(pre, post, paired=True, alternative='greater').round(2)\n",
      "               T  dof alternative  p-val         CI95%  cohen-d  BF10  power\n",
      "    T-test -2.31    4     greater   0.96  [-1.35, inf]     0.25  0.32   0.02\n",
      "    \n",
      "    3. Paired T-test with missing values.\n",
      "    \n",
      "    >>> import numpy as np\n",
      "    >>> pre = [5.5, 2.4, np.nan, 9.6, 4.2]\n",
      "    >>> post = [6.4, 3.4, 6.4, 11., 4.8]\n",
      "    >>> ttest(pre, post, paired=True).round(3)\n",
      "                T  dof alternative  p-val          CI95%  cohen-d   BF10  power\n",
      "    T-test -5.902    3   two-sided   0.01  [-1.5, -0.45]    0.306  7.169  0.073\n",
      "    \n",
      "    Compare with SciPy\n",
      "    \n",
      "    >>> from scipy.stats import ttest_rel\n",
      "    >>> np.round(ttest_rel(pre, post, nan_policy=\"omit\"), 3)\n",
      "    array([-5.902,  0.01 ])\n",
      "    \n",
      "    4. Independent two-sample T-test with equal sample size.\n",
      "    \n",
      "    >>> np.random.seed(123)\n",
      "    >>> x = np.random.normal(loc=7, size=20)\n",
      "    >>> y = np.random.normal(loc=4, size=20)\n",
      "    >>> ttest(x, y)\n",
      "                   T  dof alternative         p-val         CI95%   cohen-d       BF10  power\n",
      "    T-test  9.106452   38   two-sided  4.306971e-11  [2.64, 4.15]  2.879713  1.366e+08    1.0\n",
      "    \n",
      "    5. Independent two-sample T-test with unequal sample size. A Welch's T-test is used.\n",
      "    \n",
      "    >>> np.random.seed(123)\n",
      "    >>> y = np.random.normal(loc=6.5, size=15)\n",
      "    >>> ttest(x, y)\n",
      "                   T        dof alternative     p-val          CI95%   cohen-d   BF10     power\n",
      "    T-test  1.996537  31.567592   two-sided  0.054561  [-0.02, 1.65]  0.673518  1.469  0.481867\n",
      "    \n",
      "    6. However, the Welch's correction can be disabled:\n",
      "    \n",
      "    >>> ttest(x, y, correction=False)\n",
      "                   T  dof alternative     p-val          CI95%   cohen-d   BF10     power\n",
      "    T-test  1.971859   33   two-sided  0.057056  [-0.03, 1.66]  0.673518  1.418  0.481867\n",
      "    \n",
      "    Compare with SciPy\n",
      "    \n",
      "    >>> from scipy.stats import ttest_ind\n",
      "    >>> np.round(ttest_ind(x, y, equal_var=True), 6)  # T value and p-value\n",
      "    array([1.971859, 0.057056])\n",
      "\n"
     ]
    }
   ],
   "source": [
    "help(pg.ttest)"
   ]
  },
  {
   "cell_type": "code",
   "execution_count": 32,
   "id": "b41fccb9",
   "metadata": {},
   "outputs": [
    {
     "name": "stdout",
     "output_type": "stream",
     "text": [
      "Independent t-test results:\n",
      "\n",
      "              T   dof alternative     p-val        CI95%  cohen-d  BF10  \\\n",
      "T-test -0.94776  2514   two-sided  0.343343  [-0.0, 0.0]  0.03779  0.07   \n",
      "\n",
      "           power  \n",
      "T-test  0.157456  \n"
     ]
    }
   ],
   "source": [
    "# Conduct a independent t-test on equally-weighted portfolio and max sharpe portfolio\n",
    "# The null hypothesis is that their mean returns are equal\n",
    "\n",
    "# Calculate and print the paired test results\n",
    "independent_test_results = pg.ttest(x = portfolio_returns['E.W. daily'], \n",
    "                               y = portfolio_returns['M.S. daily'], \n",
    "                               paired = False, alternative = \"two-sided\",\n",
    "                               confidence = 0.95)\n",
    "\n",
    "print(\"Independent t-test results:\\n\")\n",
    "print(independent_test_results)"
   ]
  },
  {
   "cell_type": "markdown",
   "id": "10650da2",
   "metadata": {},
   "source": [
    "Since the p-val is > 0.05 we do not have sufficient evidence to reject the null hypothesis that the mean returns of the two portfolios are equal"
   ]
  },
  {
   "cell_type": "code",
   "execution_count": 33,
   "id": "66385b5e",
   "metadata": {},
   "outputs": [
    {
     "name": "stdout",
     "output_type": "stream",
     "text": [
      "\n",
      "Paired t-test returns:\n",
      "\n",
      "               T   dof alternative     p-val         CI95%  cohen-d   BF10  \\\n",
      "T-test -2.343316  1257   two-sided  0.019268  [-0.0, -0.0]  0.03779  0.489   \n",
      "\n",
      "           power  \n",
      "T-test  0.267899  \n"
     ]
    }
   ],
   "source": [
    "# Calculate and print the paired test results\n",
    "paired_test_results = pg.ttest(x = portfolio_returns['E.W. daily'], \n",
    "                               y = portfolio_returns['M.S. daily'], \n",
    "                               paired = True, alternative = \"two-sided\",\n",
    "                               confidence = 0.95)\n",
    "\n",
    "print(\"\\nPaired t-test returns:\\n\")\n",
    "print(paired_test_results)"
   ]
  },
  {
   "cell_type": "markdown",
   "id": "1b66fe79",
   "metadata": {},
   "source": [
    "Since the p-val is > 0.05 we do not have sufficient evidence to reject the null hypothesis that the mean returns of the two portfolios are equal"
   ]
  },
  {
   "cell_type": "markdown",
   "id": "27dfddf2",
   "metadata": {},
   "source": [
    "For the purpose of this experiment, we should use the **paired test** of difference in portfolio mean returns as the underlying stocks in the equal weight portfolio and the max sharpe portfolio are the same. "
   ]
  },
  {
   "cell_type": "markdown",
   "id": "51b567ff",
   "metadata": {},
   "source": [
    "#### Optional Bonus: Additional Test for The Curious: The equality of mean portfolio returns across equally weighted, maximum-Sharpe, and minimum-volatility portfolios."
   ]
  },
  {
   "cell_type": "code",
   "execution_count": 25,
   "id": "50daee20",
   "metadata": {},
   "outputs": [
    {
     "name": "stdout",
     "output_type": "stream",
     "text": [
      "Help on function anova in module pingouin.parametric:\n",
      "\n",
      "anova(data=None, dv=None, between=None, ss_type=2, detailed=False, effsize='np2')\n",
      "    One-way and *N*-way ANOVA.\n",
      "    \n",
      "    Parameters\n",
      "    ----------\n",
      "    data : :py:class:`pandas.DataFrame`\n",
      "        DataFrame. Note that this function can also directly be used as a\n",
      "        Pandas method, in which case this argument is no longer needed.\n",
      "    dv : string\n",
      "        Name of column in ``data`` containing the dependent variable.\n",
      "    between : string or list with *N* elements\n",
      "        Name of column(s) in ``data`` containing the between-subject factor(s).\n",
      "        If ``between`` is a single string, a one-way ANOVA is computed.\n",
      "        If ``between`` is a list with two or more elements, a *N*-way ANOVA is\n",
      "        performed.\n",
      "        Note that Pingouin will internally call statsmodels to calculate\n",
      "        ANOVA with 3 or more factors, or unbalanced two-way ANOVA.\n",
      "    ss_type : int\n",
      "        Specify how the sums of squares is calculated for *unbalanced* design\n",
      "        with 2 or more factors. Can be 1, 2 (default), or 3. This has no impact\n",
      "        on one-way design or N-way ANOVA with balanced data.\n",
      "    detailed : boolean\n",
      "        If True, return a detailed ANOVA table\n",
      "        (default True for N-way ANOVA).\n",
      "    effsize : str\n",
      "        Effect size. Must be 'np2' (partial eta-squared) or 'n2'\n",
      "        (eta-squared). Note that for one-way ANOVA partial eta-squared is the\n",
      "        same as eta-squared.\n",
      "    \n",
      "    Returns\n",
      "    -------\n",
      "    aov : :py:class:`pandas.DataFrame`\n",
      "        ANOVA summary:\n",
      "    \n",
      "        * ``'Source'``: Factor names\n",
      "        * ``'SS'``: Sums of squares\n",
      "        * ``'DF'``: Degrees of freedom\n",
      "        * ``'MS'``: Mean squares\n",
      "        * ``'F'``: F-values\n",
      "        * ``'p-unc'``: uncorrected p-values\n",
      "        * ``'np2'``: Partial eta-square effect sizes\n",
      "    \n",
      "    See Also\n",
      "    --------\n",
      "    rm_anova : One-way and two-way repeated measures ANOVA\n",
      "    mixed_anova : Two way mixed ANOVA\n",
      "    welch_anova : One-way Welch ANOVA\n",
      "    kruskal : Non-parametric one-way ANOVA\n",
      "    \n",
      "    Notes\n",
      "    -----\n",
      "    The classic ANOVA is very powerful when the groups are normally distributed\n",
      "    and have equal variances. However, when the groups have unequal variances,\n",
      "    it is best to use the Welch ANOVA (:py:func:`pingouin.welch_anova`) that\n",
      "    better controls for type I error (Liu 2015). The homogeneity of variances\n",
      "    can be measured with the :py:func:`pingouin.homoscedasticity` function.\n",
      "    \n",
      "    The main idea of ANOVA is to partition the variance (sums of squares)\n",
      "    into several components. For example, in one-way ANOVA:\n",
      "    \n",
      "    .. math::\n",
      "        SS_{\\text{total}} = SS_{\\text{effect}} + SS_{\\text{error}}\n",
      "    \n",
      "        SS_{\\text{total}} = \\sum_i \\sum_j (Y_{ij} - \\overline{Y})^2\n",
      "    \n",
      "        SS_{\\text{effect}} = \\sum_i n_i (\\overline{Y_i} - \\overline{Y})^2\n",
      "    \n",
      "        SS_{\\text{error}} = \\sum_i \\sum_j (Y_{ij} - \\overline{Y}_i)^2\n",
      "    \n",
      "    where :math:`i=1,...,r; j=1,...,n_i`, :math:`r` is the number of groups,\n",
      "    and :math:`n_i` the number of observations for the :math:`i` th group.\n",
      "    \n",
      "    The F-statistics is then defined as:\n",
      "    \n",
      "    .. math::\n",
      "    \n",
      "        F^* = \\frac{MS_{\\text{effect}}}{MS_{\\text{error}}} =\n",
      "        \\frac{SS_{\\text{effect}} / (r - 1)}{SS_{\\text{error}} / (n_t - r)}\n",
      "    \n",
      "    and the p-value can be calculated using a F-distribution with\n",
      "    :math:`r-1, n_t-1` degrees of freedom.\n",
      "    \n",
      "    When the groups are balanced and have equal variances, the optimal post-hoc\n",
      "    test is the Tukey-HSD test (:py:func:`pingouin.pairwise_tukey`).\n",
      "    If the groups have unequal variances, the Games-Howell test is more\n",
      "    adequate (:py:func:`pingouin.pairwise_gameshowell`).\n",
      "    \n",
      "    The default effect size reported in Pingouin is the partial eta-square,\n",
      "    which, for one-way ANOVA is the same as eta-square and generalized\n",
      "    eta-square.\n",
      "    \n",
      "    .. math::\n",
      "        \\eta_p^2 = \\frac{SS_{\\text{effect}}}{SS_{\\text{effect}} +\n",
      "        SS_{\\text{error}}}\n",
      "    \n",
      "    Missing values are automatically removed. Results have been tested against\n",
      "    R, Matlab and JASP.\n",
      "    \n",
      "    Examples\n",
      "    --------\n",
      "    One-way ANOVA\n",
      "    \n",
      "    >>> import pingouin as pg\n",
      "    >>> df = pg.read_dataset('anova')\n",
      "    >>> aov = pg.anova(dv='Pain threshold', between='Hair color', data=df,\n",
      "    ...                detailed=True)\n",
      "    >>> aov.round(3)\n",
      "           Source        SS  DF       MS      F  p-unc    np2\n",
      "    0  Hair color  1360.726   3  453.575  6.791  0.004  0.576\n",
      "    1      Within  1001.800  15   66.787    NaN    NaN    NaN\n",
      "    \n",
      "    Same but using a standard eta-squared instead of a partial eta-squared\n",
      "    effect size. Also note how here we're using the anova function directly as\n",
      "    a method (= built-in function) of our pandas dataframe. In that case,\n",
      "    we don't have to specify ``data`` anymore.\n",
      "    \n",
      "    >>> df.anova(dv='Pain threshold', between='Hair color', detailed=False,\n",
      "    ...          effsize='n2')\n",
      "           Source  ddof1  ddof2         F     p-unc        n2\n",
      "    0  Hair color      3     15  6.791407  0.004114  0.575962\n",
      "    \n",
      "    Two-way ANOVA with balanced design\n",
      "    \n",
      "    >>> data = pg.read_dataset('anova2')\n",
      "    >>> data.anova(dv=\"Yield\", between=[\"Blend\", \"Crop\"]).round(3)\n",
      "             Source        SS  DF        MS      F  p-unc    np2\n",
      "    0         Blend     2.042   1     2.042  0.004  0.952  0.000\n",
      "    1          Crop  2736.583   2  1368.292  2.525  0.108  0.219\n",
      "    2  Blend * Crop  2360.083   2  1180.042  2.178  0.142  0.195\n",
      "    3      Residual  9753.250  18   541.847    NaN    NaN    NaN\n",
      "    \n",
      "    Two-way ANOVA with unbalanced design (requires statsmodels)\n",
      "    \n",
      "    >>> data = pg.read_dataset('anova2_unbalanced')\n",
      "    >>> data.anova(dv=\"Scores\", between=[\"Diet\", \"Exercise\"],\n",
      "    ...            effsize=\"n2\").round(3)\n",
      "                Source       SS   DF       MS      F  p-unc     n2\n",
      "    0             Diet  390.625  1.0  390.625  7.423  0.034  0.433\n",
      "    1         Exercise  180.625  1.0  180.625  3.432  0.113  0.200\n",
      "    2  Diet * Exercise   15.625  1.0   15.625  0.297  0.605  0.017\n",
      "    3         Residual  315.750  6.0   52.625    NaN    NaN    NaN\n",
      "    \n",
      "    Three-way ANOVA, type 3 sums of squares (requires statsmodels)\n",
      "    \n",
      "    >>> data = pg.read_dataset('anova3')\n",
      "    >>> data.anova(dv='Cholesterol', between=['Sex', 'Risk', 'Drug'],\n",
      "    ...            ss_type=3).round(3)\n",
      "                  Source      SS    DF      MS       F  p-unc    np2\n",
      "    0                Sex   2.075   1.0   2.075   2.462  0.123  0.049\n",
      "    1               Risk  11.332   1.0  11.332  13.449  0.001  0.219\n",
      "    2               Drug   0.816   2.0   0.408   0.484  0.619  0.020\n",
      "    3         Sex * Risk   0.117   1.0   0.117   0.139  0.711  0.003\n",
      "    4         Sex * Drug   2.564   2.0   1.282   1.522  0.229  0.060\n",
      "    5        Risk * Drug   2.438   2.0   1.219   1.446  0.245  0.057\n",
      "    6  Sex * Risk * Drug   1.844   2.0   0.922   1.094  0.343  0.044\n",
      "    7           Residual  40.445  48.0   0.843     NaN    NaN    NaN\n",
      "\n"
     ]
    }
   ],
   "source": [
    "# Deep dive into the ANOVA test\n",
    "# Hint: help(pg.anova)\n",
    "help(pg.anova)"
   ]
  },
  {
   "cell_type": "code",
   "execution_count": 26,
   "id": "e84049ea",
   "metadata": {},
   "outputs": [],
   "source": [
    "# Subset the portfolio to remove cumulative return columns (as we don't want to compare cumulative returns with daily returns)\n",
    "portfolio_returns_subset = portfolio_returns[['E.W. daily', 'M.S. daily', 'M.V. daily']]\n",
    "\n",
    "# Reshape the dataframe, such that we have a column for portfolio type\n",
    "# Hint: Use dataframe's method .unstack\n",
    "unstacked_portfolio_returns = portfolio_returns_subset.unstack()"
   ]
  },
  {
   "cell_type": "code",
   "execution_count": 27,
   "id": "762c1d7b",
   "metadata": {},
   "outputs": [
    {
     "data": {
      "text/plain": [
       "            Date      \n",
       "E.W. daily  2017-08-31    0.009126\n",
       "            2017-09-01   -0.001263\n",
       "            2017-09-05   -0.005281\n",
       "            2017-09-06    0.002884\n",
       "            2017-09-07    0.004009\n",
       "dtype: float64"
      ]
     },
     "execution_count": 27,
     "metadata": {},
     "output_type": "execute_result"
    }
   ],
   "source": [
    "# Inspect the dataframe\n",
    "unstacked_portfolio_returns.head()"
   ]
  },
  {
   "cell_type": "code",
   "execution_count": 28,
   "id": "b23b85a1",
   "metadata": {},
   "outputs": [],
   "source": [
    "# Turn multiindex into columns\n",
    "# Hint: reset the index with dataframe's method .reset_index()\n",
    "unstacked_portfolio_returns = unstacked_portfolio_returns.reset_index()"
   ]
  },
  {
   "cell_type": "code",
   "execution_count": 29,
   "id": "d707e7e9",
   "metadata": {
    "scrolled": true
   },
   "outputs": [
    {
     "name": "stdout",
     "output_type": "stream",
     "text": [
      "     Portfolio Type       Date    Return\n",
      "0        E.W. daily 2017-08-31  0.009126\n",
      "1        E.W. daily 2017-09-01 -0.001263\n",
      "2        E.W. daily 2017-09-05 -0.005281\n",
      "3        E.W. daily 2017-09-06  0.002884\n",
      "4        E.W. daily 2017-09-07  0.004009\n",
      "...             ...        ...       ...\n",
      "3769     M.V. daily 2022-08-24  0.008298\n",
      "3770     M.V. daily 2022-08-25  0.018235\n",
      "3771     M.V. daily 2022-08-26 -0.033425\n",
      "3772     M.V. daily 2022-08-29 -0.005428\n",
      "3773     M.V. daily 2022-08-30 -0.017754\n",
      "\n",
      "[3774 rows x 3 columns]\n"
     ]
    }
   ],
   "source": [
    "# Rename column names\n",
    "unstacked_portfolio_returns.columns = ['Portfolio Type', 'Date', 'Return']\n",
    "\n",
    "# Inspect dataframe\n",
    "print(unstacked_portfolio_returns)"
   ]
  },
  {
   "cell_type": "code",
   "execution_count": 30,
   "id": "2c01460e",
   "metadata": {},
   "outputs": [
    {
     "name": "stdout",
     "output_type": "stream",
     "text": [
      "           Source  ddof1  ddof2         F     p-unc       np2\n",
      "0  Portfolio Type      2   3771  0.777089  0.459816  0.000412\n"
     ]
    }
   ],
   "source": [
    "# Test the equality of portfolio mean returns across three portfolio construction methods\n",
    "# The null hypothesis is that their mean returns are equal\n",
    "# Hint: use pg.anova\n",
    "anova_results = pg.anova(data = unstacked_portfolio_returns, dv = 'Return', \n",
    "                         between = 'Portfolio Type')\n",
    "\n",
    "print(anova_results)"
   ]
  },
  {
   "cell_type": "markdown",
   "id": "28e60035",
   "metadata": {},
   "source": [
    "### 5. Optional Bonus. What other hypotheses would you like to test? How do you test them? What do you find? "
   ]
  },
  {
   "cell_type": "markdown",
   "id": "d18907af",
   "metadata": {},
   "source": [
    "I would like to find out whether the mean returns are different for stocks with 'Buy' rating compared to stocks with 'Hold/Sell' Rating"
   ]
  },
  {
   "cell_type": "code",
   "execution_count": 4,
   "id": "95405423",
   "metadata": {},
   "outputs": [
    {
     "name": "stdout",
     "output_type": "stream",
     "text": [
      "[*********************100%***********************]  6 of 6 completed\n"
     ]
    }
   ],
   "source": [
    "symbols_list = [\"MSFT\", \"GME\", \"JPM\", \"GPRO\", \"META\", \"CLX\"]\n",
    "\n",
    "#sort the list alphabetically\n",
    "symbols_list = sorted(symbols_list)\n",
    "\n",
    "#taking only for the past 2 years\n",
    "start = dt.datetime(2020,9,12)\n",
    "end = dt.datetime(2022,9,12)\n",
    "data = yf.download(symbols_list, start=start, end=end)\n",
    "\n",
    "# Find daily returns for every stock \n",
    "prices = data['Adj Close']\n",
    "daily_returns = prices.pct_change()\n",
    "daily_returns = daily_returns.iloc[1: , :]\n",
    "\n",
    "\n",
    "# Create an empty boolean array which will contain True if the stock is 'Buy' rating and False if the stock is not\n",
    "is_buy_rating = []\n",
    "\n",
    "for symbol in symbols_list:\n",
    "    \n",
    "    msft = yf.Ticker(symbol)\n",
    "    recommendations = msft.recommendations\n",
    "    \n",
    "    #take the mode of the recommendations to get the most general concensus\n",
    "    recommendation = str(recommendations['To Grade'].mode()[0])\n",
    "    \n",
    "    # Put True in the boolean array if the stock recommendation is a buy\n",
    "    is_buy_rating.append(recommendation == 'Buy')"
   ]
  },
  {
   "cell_type": "code",
   "execution_count": 5,
   "id": "be25f965",
   "metadata": {},
   "outputs": [
    {
     "name": "stdout",
     "output_type": "stream",
     "text": [
      "Buy Rating Stocks\n",
      "                 JPM      META      MSFT\n",
      "Date                                    \n",
      "2020-09-14  0.013852 -0.001725  0.006764\n",
      "2020-09-15 -0.031131  0.023558  0.016406\n",
      "2020-09-16  0.004230 -0.032670 -0.017866\n",
      "2020-09-17 -0.011434 -0.033015 -0.010436\n",
      "2020-09-18 -0.002131 -0.008987 -0.012419\n",
      "...              ...       ...       ...\n",
      "2022-09-02 -0.006986 -0.030479 -0.016667\n",
      "2022-09-06  0.000264 -0.011103 -0.010974\n",
      "2022-09-07  0.018991  0.011669  0.019112\n",
      "2022-09-08  0.023296  0.010412  0.001666\n",
      "2022-09-09  0.004806  0.043749  0.022977\n",
      "\n",
      "[502 rows x 3 columns]\n"
     ]
    }
   ],
   "source": [
    "# Select from the dataframe the stocks with a buy rating:\n",
    "buy_rating_stocks = daily_returns.loc[:,is_buy_rating]\n",
    "\n",
    "print(\"Buy Rating Stocks\")\n",
    "print(buy_rating_stocks)"
   ]
  },
  {
   "cell_type": "code",
   "execution_count": 6,
   "id": "e6b6f34d",
   "metadata": {},
   "outputs": [],
   "source": [
    "# Now that we have identified the stocks which have a buy rating, we stack the returns on top of each other\n",
    "buy_rating_returns = pd.concat([buy_rating_stocks['JPM'], \n",
    "                                buy_rating_stocks['META'], \n",
    "                                buy_rating_stocks['MSFT']])"
   ]
  },
  {
   "cell_type": "code",
   "execution_count": 7,
   "id": "25270430",
   "metadata": {
    "scrolled": true
   },
   "outputs": [
    {
     "name": "stdout",
     "output_type": "stream",
     "text": [
      "Sell Rating Stocks\n",
      "                 CLX       GME      GPRO\n",
      "Date                                    \n",
      "2020-09-14  0.016168  0.134647  0.026667\n",
      "2020-09-15 -0.036191  0.026049  0.010390\n",
      "2020-09-16 -0.010688  0.224260  0.035990\n",
      "2020-09-17 -0.002411  0.059908 -0.002481\n",
      "2020-09-18  0.006285  0.029348  0.000000\n",
      "...              ...       ...       ...\n",
      "2022-09-02 -0.020905 -0.009772 -0.010067\n",
      "2022-09-06 -0.000980 -0.081140 -0.037288\n",
      "2022-09-07  0.025787 -0.043755  0.021127\n",
      "2022-09-08 -0.004030  0.074459 -0.003448\n",
      "2022-09-09  0.016187  0.119628  0.025951\n",
      "\n",
      "[502 rows x 3 columns]\n"
     ]
    }
   ],
   "source": [
    "# We repeat this process for the sell/hold rating returns:\n",
    "sell_rating_stocks = daily_returns.loc[:,[not elem for elem in is_buy_rating]]\n",
    "print(\"Sell Rating Stocks\")\n",
    "print(sell_rating_stocks)"
   ]
  },
  {
   "cell_type": "code",
   "execution_count": 8,
   "id": "dde34cd2",
   "metadata": {},
   "outputs": [],
   "source": [
    "sell_rating_returns = pd.concat([sell_rating_stocks['CLX'], \n",
    "                                 sell_rating_stocks['GME'], \n",
    "                                 sell_rating_stocks['GPRO']])"
   ]
  },
  {
   "cell_type": "code",
   "execution_count": 9,
   "id": "a0d639cf",
   "metadata": {},
   "outputs": [
    {
     "name": "stdout",
     "output_type": "stream",
     "text": [
      "           Date       Buy  Hold/Sell\n",
      "0    2020-09-14  0.013852   0.016168\n",
      "1    2020-09-15 -0.031131  -0.036191\n",
      "2    2020-09-16  0.004230  -0.010688\n",
      "3    2020-09-17 -0.011434  -0.002411\n",
      "4    2020-09-18 -0.002131   0.006285\n",
      "...         ...       ...        ...\n",
      "1501 2022-09-02 -0.016667  -0.010067\n",
      "1502 2022-09-06 -0.010974  -0.037288\n",
      "1503 2022-09-07  0.019112   0.021127\n",
      "1504 2022-09-08  0.001666  -0.003448\n",
      "1505 2022-09-09  0.022977   0.025951\n",
      "\n",
      "[1506 rows x 3 columns]\n"
     ]
    }
   ],
   "source": [
    "# Next we add the two columns into a single dataframe\n",
    "returns = pd.concat([buy_rating_returns,sell_rating_returns], axis = 1)\n",
    "\n",
    "# Rename Columns\n",
    "returns.columns = ['Buy', 'Hold/Sell']\n",
    "returns = returns.reset_index()\n",
    "print(returns)"
   ]
  },
  {
   "cell_type": "code",
   "execution_count": 10,
   "id": "8145769e",
   "metadata": {},
   "outputs": [
    {
     "name": "stdout",
     "output_type": "stream",
     "text": [
      "           Date       Buy  Hold/Sell\n",
      "1501 2022-09-02 -0.016667  -0.010067\n",
      "1502 2022-09-06 -0.010974  -0.037288\n",
      "1503 2022-09-07  0.019112   0.021127\n",
      "1504 2022-09-08  0.001666  -0.003448\n",
      "1505 2022-09-09  0.022977   0.025951\n"
     ]
    },
    {
     "data": {
      "image/png": "[encoded data removed]",
      "text/plain": [
       "<Figure size 432x288 with 1 Axes>"
      ]
     },
     "metadata": {
      "needs_background": "light"
     },
     "output_type": "display_data"
    }
   ],
   "source": [
    "print(returns.tail())\n",
    "# Visualise the returns \n",
    "\n",
    "import seaborn as sns\n",
    "\n",
    "sns.histplot(data = returns, x = 'Buy', color=\"blue\", \n",
    "             label = 'Buy', binwidth = 0.01, kde = True)\n",
    "\n",
    "sns.histplot(data = returns, x = 'Hold/Sell', color=\"red\", \n",
    "             label = 'Hold/Sell', binwidth = 0.01, kde = True)\n",
    "\n",
    "plt.xlim(-0.18,0.18)\n",
    "plt.legend() \n",
    "plt.show()"
   ]
  },
  {
   "cell_type": "code",
   "execution_count": 13,
   "id": "2bd2332a",
   "metadata": {},
   "outputs": [
    {
     "name": "stdout",
     "output_type": "stream",
     "text": [
      "               T   dof alternative     p-val          CI95%  cohen-d  BF10  \\\n",
      "T-test -2.090729  3010   two-sided  0.036636  [-0.01, -0.0]  0.07619  0.36   \n",
      "\n",
      "           power  \n",
      "T-test  0.551781  \n"
     ]
    }
   ],
   "source": [
    "# Now we can run the analysis\n",
    "\n",
    "test_results = pg.ttest(x = returns['Buy'], y = returns['Hold/Sell'], \n",
    "                        paired = False, alternative = \"two-sided\")\n",
    "                              \n",
    "# Print the paired test results\n",
    "print(test_results)"
   ]
  },
  {
   "cell_type": "markdown",
   "id": "16f7d335",
   "metadata": {},
   "source": [
    "Hence, given that the p-value is smaller than 0.05 we reject the null hypothesis that the mean returns between buy and sell groups are the same. "
   ]
  }
 ],
 "metadata": {
  "kernelspec": {
   "display_name": "Python 3 (ipykernel)",
   "language": "python",
   "name": "python3"
  },
  "language_info": {
   "codemirror_mode": {
    "name": "ipython",
    "version": 3
   },
   "file_extension": ".py",
   "mimetype": "text/x-python",
   "name": "python",
   "nbconvert_exporter": "python",
   "pygments_lexer": "ipython3",
   "version": "3.9.12"
  }
 },
 "nbformat": 4,
 "nbformat_minor": 5
}
