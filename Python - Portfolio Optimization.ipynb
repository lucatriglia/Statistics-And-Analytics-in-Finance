{
 "cells": [
  {
   "cell_type": "markdown",
   "id": "a57b75f9",
   "metadata": {},
   "source": [
    "# Python - Portfolio Optimization"
   ]
  },
  {
   "cell_type": "markdown",
   "id": "a3dba014",
   "metadata": {},
   "source": [
    "### 1. Craft an all-weather portfolio. Pick a portfolio of stocks following an investment theme that has stood and will stand the test of time. Extract the data from Yahoo Finance and explore the statistical distribution of each stock's past 5-year returns."
   ]
  },
  {
   "cell_type": "code",
   "execution_count": 1,
   "id": "36df558e-7777-4fc7-93f5-35f46697aa63",
   "metadata": {},
   "outputs": [],
   "source": [
    "# Install yahoo finance API package\n",
    "# !pip install yfinance --upgrade --no-cache-dir"
   ]
  },
  {
   "cell_type": "code",
   "execution_count": 2,
   "id": "1a6e64d9",
   "metadata": {},
   "outputs": [],
   "source": [
    "# Import the necessary packages\n",
    "import yfinance as yf\n",
    "import datetime as dt \n",
    "import numpy as np\n",
    "import pandas as pd\n",
    "import matplotlib.pyplot as plt"
   ]
  },
  {
   "cell_type": "code",
   "execution_count": 3,
   "id": "d88a1500-97a6-4a5b-9325-59b011852086",
   "metadata": {},
   "outputs": [
    {
     "name": "stdout",
     "output_type": "stream",
     "text": [
      "[*********************100%***********************]  7 of 7 completed\n"
     ]
    }
   ],
   "source": [
    "# Pick a list of stocks that form your all-weather portfolio\n",
    "# Draw data for the past five years\n",
    "\n",
    "#Illustrative, change into yours!\n",
    "symbols_list = [\"MSFT\", \"AMZN\", \"GOOG\", \"COST\", \"INTC\", \"BTC-USD\", \"D05.SI\"]  \n",
    "trading_days_per_year = 252\n",
    "\n",
    "start = dt.datetime(2017,8,31)\n",
    "end = dt.datetime(2022,8,31)\n",
    "data = yf.download(symbols_list, start=start, end=end)"
   ]
  },
  {
   "cell_type": "code",
   "execution_count": 4,
   "id": "75aa1d71-a519-4e9c-90f7-59a7ca29ba8e",
   "metadata": {},
   "outputs": [
    {
     "name": "stdout",
     "output_type": "stream",
     "text": [
      "<class 'pandas.core.frame.DataFrame'>\n",
      "DatetimeIndex: 1827 entries, 2017-08-30 to 2022-08-30\n",
      "Freq: D\n",
      "Data columns (total 42 columns):\n",
      " #   Column                Non-Null Count  Dtype  \n",
      "---  ------                --------------  -----  \n",
      " 0   (Adj Close, AMZN)     1259 non-null   float64\n",
      " 1   (Adj Close, BTC-USD)  1827 non-null   float64\n",
      " 2   (Adj Close, COST)     1259 non-null   float64\n",
      " 3   (Adj Close, D05.SI)   1257 non-null   float64\n",
      " 4   (Adj Close, GOOG)     1259 non-null   float64\n",
      " 5   (Adj Close, INTC)     1259 non-null   float64\n",
      " 6   (Adj Close, MSFT)     1259 non-null   float64\n",
      " 7   (Close, AMZN)         1259 non-null   float64\n",
      " 8   (Close, BTC-USD)      1827 non-null   float64\n",
      " 9   (Close, COST)         1259 non-null   float64\n",
      " 10  (Close, D05.SI)       1257 non-null   float64\n",
      " 11  (Close, GOOG)         1259 non-null   float64\n",
      " 12  (Close, INTC)         1259 non-null   float64\n",
      " 13  (Close, MSFT)         1259 non-null   float64\n",
      " 14  (High, AMZN)          1259 non-null   float64\n",
      " 15  (High, BTC-USD)       1827 non-null   float64\n",
      " 16  (High, COST)          1259 non-null   float64\n",
      " 17  (High, D05.SI)        1257 non-null   float64\n",
      " 18  (High, GOOG)          1259 non-null   float64\n",
      " 19  (High, INTC)          1259 non-null   float64\n",
      " 20  (High, MSFT)          1259 non-null   float64\n",
      " 21  (Low, AMZN)           1259 non-null   float64\n",
      " 22  (Low, BTC-USD)        1827 non-null   float64\n",
      " 23  (Low, COST)           1259 non-null   float64\n",
      " 24  (Low, D05.SI)         1257 non-null   float64\n",
      " 25  (Low, GOOG)           1259 non-null   float64\n",
      " 26  (Low, INTC)           1259 non-null   float64\n",
      " 27  (Low, MSFT)           1259 non-null   float64\n",
      " 28  (Open, AMZN)          1259 non-null   float64\n",
      " 29  (Open, BTC-USD)       1827 non-null   float64\n",
      " 30  (Open, COST)          1259 non-null   float64\n",
      " 31  (Open, D05.SI)        1257 non-null   float64\n",
      " 32  (Open, GOOG)          1259 non-null   float64\n",
      " 33  (Open, INTC)          1259 non-null   float64\n",
      " 34  (Open, MSFT)          1259 non-null   float64\n",
      " 35  (Volume, AMZN)        1259 non-null   float64\n",
      " 36  (Volume, BTC-USD)     1827 non-null   int64  \n",
      " 37  (Volume, COST)        1259 non-null   float64\n",
      " 38  (Volume, D05.SI)      1257 non-null   float64\n",
      " 39  (Volume, GOOG)        1259 non-null   float64\n",
      " 40  (Volume, INTC)        1259 non-null   float64\n",
      " 41  (Volume, MSFT)        1259 non-null   float64\n",
      "dtypes: float64(41), int64(1)\n",
      "memory usage: 613.8 KB\n"
     ]
    }
   ],
   "source": [
    "# Explore the dataframe with .info()\n",
    "# Find out more about the method with help!\n",
    "data.info()"
   ]
  },
  {
   "cell_type": "code",
   "execution_count": 5,
   "id": "ed231466-7fed-481b-ad3f-ba41d0cd655c",
   "metadata": {},
   "outputs": [],
   "source": [
    "# Keep only the adjusted close in the dataframe\n",
    "# Note that the date is in the index\n",
    "prices = data[\"Adj Close\"]"
   ]
  },
  {
   "cell_type": "code",
   "execution_count": 6,
   "id": "bda124c9-f94e-4597-bc6e-9a42f044af59",
   "metadata": {},
   "outputs": [
    {
     "name": "stdout",
     "output_type": "stream",
     "text": [
      "<class 'pandas.core.frame.DataFrame'>\n",
      "DatetimeIndex: 1827 entries, 2017-08-30 to 2022-08-30\n",
      "Freq: D\n",
      "Data columns (total 7 columns):\n",
      " #   Column   Non-Null Count  Dtype  \n",
      "---  ------   --------------  -----  \n",
      " 0   AMZN     1259 non-null   float64\n",
      " 1   BTC-USD  1827 non-null   float64\n",
      " 2   COST     1259 non-null   float64\n",
      " 3   D05.SI   1257 non-null   float64\n",
      " 4   GOOG     1259 non-null   float64\n",
      " 5   INTC     1259 non-null   float64\n",
      " 6   MSFT     1259 non-null   float64\n",
      "dtypes: float64(7)\n",
      "memory usage: 114.2 KB\n"
     ]
    }
   ],
   "source": [
    "# Explore the trimmed dataframe with .info()\n",
    "prices.info()"
   ]
  },
  {
   "cell_type": "code",
   "execution_count": 7,
   "id": "4a892d78-11ac-4341-91e8-6a82c010e1cc",
   "metadata": {},
   "outputs": [],
   "source": [
    "# Calculate return using method pct_change\n",
    "# Find out more about .pct_change with help! \n",
    "daily_returns = prices.pct_change()"
   ]
  },
  {
   "cell_type": "code",
   "execution_count": 8,
   "id": "27e43f5a-a4d2-430d-b0f5-7d202149601c",
   "metadata": {},
   "outputs": [
    {
     "data": {
      "text/html": [
       "<div>\n",
       "<style scoped>\n",
       "    .dataframe tbody tr th:only-of-type {\n",
       "        vertical-align: middle;\n",
       "    }\n",
       "\n",
       "    .dataframe tbody tr th {\n",
       "        vertical-align: top;\n",
       "    }\n",
       "\n",
       "    .dataframe thead th {\n",
       "        text-align: right;\n",
       "    }\n",
       "</style>\n",
       "<table border=\"1\" class=\"dataframe\">\n",
       "  <thead>\n",
       "    <tr style=\"text-align: right;\">\n",
       "      <th></th>\n",
       "      <th>AMZN</th>\n",
       "      <th>BTC-USD</th>\n",
       "      <th>COST</th>\n",
       "      <th>D05.SI</th>\n",
       "      <th>GOOG</th>\n",
       "      <th>INTC</th>\n",
       "      <th>MSFT</th>\n",
       "    </tr>\n",
       "    <tr>\n",
       "      <th>Date</th>\n",
       "      <th></th>\n",
       "      <th></th>\n",
       "      <th></th>\n",
       "      <th></th>\n",
       "      <th></th>\n",
       "      <th></th>\n",
       "      <th></th>\n",
       "    </tr>\n",
       "  </thead>\n",
       "  <tbody>\n",
       "    <tr>\n",
       "      <th>2017-08-30</th>\n",
       "      <td>NaN</td>\n",
       "      <td>NaN</td>\n",
       "      <td>NaN</td>\n",
       "      <td>NaN</td>\n",
       "      <td>NaN</td>\n",
       "      <td>NaN</td>\n",
       "      <td>NaN</td>\n",
       "    </tr>\n",
       "    <tr>\n",
       "      <th>2017-08-31</th>\n",
       "      <td>0.013446</td>\n",
       "      <td>0.030248</td>\n",
       "      <td>0.014892</td>\n",
       "      <td>NaN</td>\n",
       "      <td>0.010499</td>\n",
       "      <td>0.005159</td>\n",
       "      <td>0.010269</td>\n",
       "    </tr>\n",
       "    <tr>\n",
       "      <th>2017-09-01</th>\n",
       "      <td>-0.002396</td>\n",
       "      <td>0.040103</td>\n",
       "      <td>0.009570</td>\n",
       "      <td>0.0</td>\n",
       "      <td>-0.002119</td>\n",
       "      <td>0.000570</td>\n",
       "      <td>-0.011101</td>\n",
       "    </tr>\n",
       "    <tr>\n",
       "      <th>2017-09-02</th>\n",
       "      <td>0.000000</td>\n",
       "      <td>-0.064031</td>\n",
       "      <td>0.000000</td>\n",
       "      <td>0.0</td>\n",
       "      <td>0.000000</td>\n",
       "      <td>0.000000</td>\n",
       "      <td>0.000000</td>\n",
       "    </tr>\n",
       "    <tr>\n",
       "      <th>2017-09-03</th>\n",
       "      <td>0.000000</td>\n",
       "      <td>0.000915</td>\n",
       "      <td>0.000000</td>\n",
       "      <td>0.0</td>\n",
       "      <td>0.000000</td>\n",
       "      <td>0.000000</td>\n",
       "      <td>0.000000</td>\n",
       "    </tr>\n",
       "  </tbody>\n",
       "</table>\n",
       "</div>"
      ],
      "text/plain": [
       "                AMZN   BTC-USD      COST  D05.SI      GOOG      INTC      MSFT\n",
       "Date                                                                          \n",
       "2017-08-30       NaN       NaN       NaN     NaN       NaN       NaN       NaN\n",
       "2017-08-31  0.013446  0.030248  0.014892     NaN  0.010499  0.005159  0.010269\n",
       "2017-09-01 -0.002396  0.040103  0.009570     0.0 -0.002119  0.000570 -0.011101\n",
       "2017-09-02  0.000000 -0.064031  0.000000     0.0  0.000000  0.000000  0.000000\n",
       "2017-09-03  0.000000  0.000915  0.000000     0.0  0.000000  0.000000  0.000000"
      ]
     },
     "execution_count": 8,
     "metadata": {},
     "output_type": "execute_result"
    }
   ],
   "source": [
    "# deep dive into the first five rows of observations in the dataframe\n",
    "daily_returns.head()"
   ]
  },
  {
   "cell_type": "code",
   "execution_count": 9,
   "id": "42679688-1aae-428f-8805-7033453ff179",
   "metadata": {},
   "outputs": [
    {
     "name": "stdout",
     "output_type": "stream",
     "text": [
      "Daily Return Mean of Each Asset:\n",
      "AMZN       0.000698\n",
      "BTC-USD    0.001653\n",
      "COST       0.000784\n",
      "D05.SI     0.000439\n",
      "GOOG       0.000593\n",
      "INTC       0.000216\n",
      "MSFT       0.000850\n",
      "dtype: float64\n",
      "\n",
      "Daily Return Standard Deviation of Each Asset:\n",
      "AMZN       0.017985\n",
      "BTC-USD    0.041000\n",
      "COST       0.012353\n",
      "D05.SI     0.010823\n",
      "GOOG       0.015614\n",
      "INTC       0.019262\n",
      "MSFT       0.015581\n",
      "dtype: float64\n",
      "\n",
      "Skewness of Each Asset:\n",
      "AMZN       0.180609\n",
      "BTC-USD   -0.139819\n",
      "COST      -0.219175\n",
      "D05.SI     0.501830\n",
      "GOOG       0.049759\n",
      "INTC      -0.375382\n",
      "MSFT       0.036717\n",
      "dtype: float64\n",
      "\n",
      "Kurtosis of Each Asset\n",
      "AMZN        8.884449\n",
      "BTC-USD     6.727931\n",
      "COST       14.960105\n",
      "D05.SI      9.424507\n",
      "GOOG        7.412314\n",
      "INTC       18.185476\n",
      "MSFT       12.566915\n",
      "dtype: float64\n"
     ]
    }
   ],
   "source": [
    "# Print the daily return mean of each asset\n",
    "print(\"Daily Return Mean of Each Asset:\")\n",
    "print(daily_returns.mean())\n",
    "\n",
    "# Print the daily return standard deviation of each asset\n",
    "print(\"\\nDaily Return Standard Deviation of Each Asset:\")\n",
    "print(daily_returns.std())\n",
    "\n",
    "# Print the skewness of each asset \n",
    "print(\"\\nSkewness of Each Asset:\")\n",
    "print(daily_returns.skew())\n",
    "\n",
    "# Print the kurtosis of each asset\n",
    "print(\"\\nKurtosis of Each Asset\")\n",
    "print(daily_returns.kurtosis())"
   ]
  },
  {
   "cell_type": "markdown",
   "id": "1b7a993b",
   "metadata": {},
   "source": [
    "### 2. Build an equally-weighted all-weather portfolio of your stock picks. Then, deep dive into the return characteristics of the portfolio (i.e., annualized portfolio return and volatility, portfolio's Sharpe ratio, portfolio's daily return profile - mean, volatility, skewness, kurtosis). Finally, draw the cumulative return of your all-weather portfolio for the past five years."
   ]
  },
  {
   "cell_type": "code",
   "execution_count": 10,
   "id": "7f9aa295",
   "metadata": {},
   "outputs": [],
   "source": [
    "# Create a function which can perform all of the above given the weights of the portfolio and its daily returns\n",
    "# The function also takes a sting \"portfolio type\" which is used in the output for readability \n",
    "def analyse_portfolio(weights, daily_returns, portfolio_type):\n",
    "    \n",
    "    # Print portfolio type\n",
    "    print(portfolio_type + \":\\n\")\n",
    "    \n",
    "    # Calculate individual mean returns \n",
    "    daily_return_mean = daily_returns.mean()\n",
    "    \n",
    "    # Calculate expected portfolio performance\n",
    "    daily_port_performance = np.sum(weights * daily_return_mean)\n",
    "\n",
    "    # Calculate annual expected portfolio performance\n",
    "    # There are 252 trading days in a year\n",
    "    annualised_return = daily_port_performance * trading_days_per_year \n",
    "\n",
    "    # Print the portfolio return\n",
    "    print(\"The annual expected portfolio return is: \" + str(annualised_return))\n",
    "\n",
    "    # Calculate the covariance matrix \n",
    "    cov_matrix = daily_returns.cov()\n",
    "    # Calculate the portfolio variance\n",
    "    port_variance = np.dot(weights.T, cov_matrix.dot(weights))\n",
    "\n",
    "    # Calculate the standard deviation by taking the square root\n",
    "    port_standard_dev = np.sqrt(port_variance)\n",
    "\n",
    "    # Calculate the annualized portfolio standard deviation\n",
    "    annualised_port_standard_dev = port_standard_dev * np.sqrt(trading_days_per_year)\n",
    "\n",
    "    # Print the annualized portfolio standard deviation\n",
    "    print(\"The annualised portfolio standard deviation is: \" + str(annualised_port_standard_dev))\n",
    "\n",
    "    # Assume the 10-year US Treasury yield as the risk-free rate\n",
    "    # Snapshot at September 2, 2022\n",
    "    risk_free = 0.032\n",
    "\n",
    "    # Calculate the Sharpe ratio\n",
    "    sharpe_ratio = (annualised_return - risk_free) / annualised_port_standard_dev\n",
    "\n",
    "    # Print the Sharpe ratio of the portfolio\n",
    "    print(\"The sharpe ratio of the portfolio is: \" + str(sharpe_ratio))\n",
    "    \n",
    "    # Create portfolio daily returns\n",
    "    daily_returns_new = daily_returns.copy()\n",
    "    daily_returns_new['Portfolio'] = daily_returns_new.dot(weights)\n",
    "    \n",
    "    # Print the portfolio daily return mean\n",
    "    print(\"\\nThe portfolio daily return mean is: \" + str(daily_returns_new['Portfolio'].mean()))\n",
    "\n",
    "    # Print the portfolio daily return standard deviation\n",
    "    print(\"The portfolio daily return  standard deviation is: \" + str(daily_returns_new['Portfolio'].std()))\n",
    "\n",
    "    # Print the portfolio daily return skewness \n",
    "    print(\"The portfolio daily return skewness is: \" + str(daily_returns_new['Portfolio'].skew()))\n",
    "\n",
    "    # Print the portfolio daily return kurtosis\n",
    "    print(\"The portfolio daily return kurtosis is: \" + str(daily_returns_new['Portfolio'].kurtosis()))\n",
    "    \n",
    "    # Calculate cumulative returns\n",
    "    # Hint: Use .cumprod()\n",
    "    daily_cum_return = (1 + daily_returns_new).cumprod()\n",
    "    \n",
    "    # Plot the cumulative returns since inception\n",
    "    fig, ax = plt.subplots()\n",
    "    ax.plot(daily_cum_return.index, daily_cum_return.Portfolio, color = 'blue', label = 'portfolio')\n",
    "    ax.set_xlabel('Year')\n",
    "    ax.set_ylabel('Return (%)')\n",
    "    plt.legend()\n",
    "    plt.show()"
   ]
  },
  {
   "cell_type": "markdown",
   "id": "ec8dd024",
   "metadata": {},
   "source": [
    "### _Equal Weight Portfolio_"
   ]
  },
  {
   "cell_type": "code",
   "execution_count": 11,
   "id": "66a825d5",
   "metadata": {},
   "outputs": [
    {
     "name": "stdout",
     "output_type": "stream",
     "text": [
      "[0.14285714 0.14285714 0.14285714 0.14285714 0.14285714 0.14285714\n",
      " 0.14285714]\n",
      "EQUAL WEIGHT PORTFOLIO:\n",
      "\n",
      "The annual expected portfolio return is: 0.18838335265575784\n",
      "The annualised portfolio standard deviation is: 0.19767903913677104\n",
      "The sharpe ratio of the portfolio is: 0.7910972925539093\n",
      "\n",
      "The portfolio daily return mean is: 0.0007413127260669959\n",
      "The portfolio daily return  standard deviation is: 0.012453038266889954\n",
      "The portfolio daily return skewness is: -0.6178022811253094\n",
      "The portfolio daily return kurtosis is: 10.900736762355479\n"
     ]
    },
    {
     "data": {
      "image/png": "[encoded data removed]",
      "text/plain": [
       "<Figure size 432x288 with 1 Axes>"
      ]
     },
     "metadata": {
      "needs_background": "light"
     },
     "output_type": "display_data"
    }
   ],
   "source": [
    "# Equal weights for the portfolio\n",
    "# Hint: Use np.array for the weights of the assets, take note of the sequence in the dataframe\n",
    "equal_weightage = 1 / len(symbols_list)\n",
    "weights = np.repeat(equal_weightage, len(symbols_list))\n",
    "\n",
    "#Call the analyse portfolio function which we defined earlier\n",
    "analyse_portfolio(weights, daily_returns, \"EQUAL WEIGHT PORTFOLIO\")"
   ]
  },
  {
   "cell_type": "markdown",
   "id": "b7330727",
   "metadata": {},
   "source": [
    "### 3. Repeat (2) but with the maximum Sharpe portfolio and minimum volatility portfolio."
   ]
  },
  {
   "cell_type": "code",
   "execution_count": 12,
   "id": "df1e9581-ddfe-4d80-8799-315cb63faf06",
   "metadata": {},
   "outputs": [],
   "source": [
    "# Install PyPortfolioOpt package\n",
    "# !pip install PyPortfolioOpt"
   ]
  },
  {
   "cell_type": "code",
   "execution_count": 13,
   "id": "d3eb4fd4",
   "metadata": {},
   "outputs": [],
   "source": [
    "# Import the packages \n",
    "from pypfopt import risk_models\n",
    "from z import expected_returns\n",
    "from pypfopt.efficient_frontier import EfficientFrontier\n",
    "\n",
    "# Calculate expected returns mu \n",
    "mu = expected_returns.mean_historical_return(prices)\n",
    "\n",
    "# Calculate the covariance matrix sigma\n",
    "sigma = risk_models.sample_cov(prices)"
   ]
  },
  {
   "cell_type": "markdown",
   "id": "85e23ff6",
   "metadata": {},
   "source": [
    "### _Max Sharpe Portfolio_:"
   ]
  },
  {
   "cell_type": "code",
   "execution_count": 14,
   "id": "6ea1a654",
   "metadata": {},
   "outputs": [
    {
     "name": "stdout",
     "output_type": "stream",
     "text": [
      "Max Sharpe weights array:\n",
      "OrderedDict([('AMZN', 0.0), ('BTC-USD', 0.02745), ('COST', 0.50226), ('D05.SI', 0.34384), ('GOOG', 0.0), ('INTC', 0.0), ('MSFT', 0.12645)])\n"
     ]
    }
   ],
   "source": [
    "# Obtain the efficient frontier\n",
    "ef1 = EfficientFrontier(mu, sigma)\n",
    "\n",
    "# Calculate the weights of your stock picks for the maximum Sharpe ratio portfolio\n",
    "raw_weights_maxsharpe = ef1.max_sharpe()\n",
    "\n",
    "# Convert the ordered dictionary into a numpy array\n",
    "# Return a group of the key-value\n",
    "# pairs in the dictionary\n",
    "cleaned_weights_maxsharpe = ef1.clean_weights()\n",
    "print(\"Max Sharpe weights array:\")\n",
    "print(cleaned_weights_maxsharpe)  \n",
    "\n",
    "# Convert object to a list\n",
    "list_tmp = list(cleaned_weights_maxsharpe.values())\n",
    "  \n",
    "# Convert list to a numpy array\n",
    "max_sharpe_weights_array = np.array(list_tmp)"
   ]
  },
  {
   "cell_type": "code",
   "execution_count": 15,
   "id": "bf65f230",
   "metadata": {
    "scrolled": false
   },
   "outputs": [
    {
     "name": "stdout",
     "output_type": "stream",
     "text": [
      "[0.02745 0.50226 0.34384 0.12645]\n",
      "MAX SHARPE PORTFOLIO:\n",
      "\n",
      "The annual expected portfolio return is: 0.1757995753235395\n",
      "The annualised portfolio standard deviation is: 0.13943459574750555\n",
      "The sharpe ratio of the portfolio is: 1.031304853380421\n",
      "\n",
      "The portfolio daily return mean is: 0.0006926519065969147\n",
      "The portfolio daily return  standard deviation is: 0.00878290442128178\n",
      "The portfolio daily return skewness is: -0.6120514242071774\n",
      "The portfolio daily return kurtosis is: 10.691865969469664\n"
     ]
    },
    {
     "data": {
      "image/png": "[encoded data removed]",
      "text/plain": [
       "<Figure size 432x288 with 1 Axes>"
      ]
     },
     "metadata": {
      "needs_background": "light"
     },
     "output_type": "display_data"
    }
   ],
   "source": [
    "# Subset the daily return panel\n",
    "# Note: A handful of stock pic1ks have no allocation (i.e., zero portfolio weight)\n",
    "\n",
    "boolean_array = max_sharpe_weights_array > 0\n",
    "daily_returns_subset = daily_returns.loc[:, boolean_array]\n",
    "\n",
    "#Remove zero element(s) from the weight array\n",
    "max_sharpe_weights_array = max_sharpe_weights_array[max_sharpe_weights_array != 0] \n",
    "\n",
    "print(max_sharpe_weights_array)\n",
    "\n",
    "#Call the analyse portfolio function which we defined earlier\n",
    "analyse_portfolio(max_sharpe_weights_array, daily_returns_subset, \"MAX SHARPE PORTFOLIO\")"
   ]
  },
  {
   "cell_type": "markdown",
   "id": "6a528f24",
   "metadata": {},
   "source": [
    "### _Minimum Volatility Portfolio_:"
   ]
  },
  {
   "cell_type": "code",
   "execution_count": 21,
   "id": "3530a244",
   "metadata": {},
   "outputs": [
    {
     "name": "stdout",
     "output_type": "stream",
     "text": [
      "Min volatility weights array:\n",
      "OrderedDict([('AMZN', 0.00242), ('BTC-USD', 0.00975), ('COST', 0.36733), ('D05.SI', 0.54127), ('GOOG', 0.05937), ('INTC', 0.01986), ('MSFT', 0.0)])\n"
     ]
    }
   ],
   "source": [
    "# Obtain the efficient frontier\n",
    "ef2 = EfficientFrontier(mu, sigma)\n",
    "\n",
    "# Calculate the weights of your stock picks for the minimum variance portfolio\n",
    "raw_weights_maxsharpe = ef2.min_volatility()\n",
    "\n",
    "# Convert the ordered dictionary into a numpy array\n",
    "# Return a group of the key-value\n",
    "# pairs in the dictionary\n",
    "cleaned_weights_min_volatility = ef2.clean_weights()\n",
    "print(\"Min volatility weights array:\")\n",
    "print(cleaned_weights_min_volatility)  \n",
    "\n",
    "# Convert object to a list\n",
    "list_tmp = list(cleaned_weights_min_volatility.values())\n",
    "  \n",
    "# Convert list to a numpy array\n",
    "min_volatility_weights_array = np.array(list_tmp)"
   ]
  },
  {
   "cell_type": "code",
   "execution_count": 17,
   "id": "73255387",
   "metadata": {
    "scrolled": true
   },
   "outputs": [
    {
     "name": "stdout",
     "output_type": "stream",
     "text": [
      "MIN VOLATILITY PORTFOLIO:\n",
      "\n",
      "The annual expected portfolio return is: 0.14688834494000425\n",
      "The annualised portfolio standard deviation is: 0.12848791938337942\n",
      "The sharpe ratio of the portfolio is: 0.8941567852554522\n",
      "\n",
      "The portfolio daily return mean is: 0.0005795048714207671\n",
      "The portfolio daily return  standard deviation is: 0.008093663714156006\n",
      "The portfolio daily return skewness is: -0.39957534273858264\n",
      "The portfolio daily return kurtosis is: 8.410100177774144\n"
     ]
    },
    {
     "data": {
      "image/png": "[encoded data removed]",
      "text/plain": [
       "<Figure size 432x288 with 1 Axes>"
      ]
     },
     "metadata": {
      "needs_background": "light"
     },
     "output_type": "display_data"
    }
   ],
   "source": [
    "# Subset the daily return panel\n",
    "# Note: A handful of stock pic1ks have no allocation (i.e., zero portfolio weight)\n",
    "\n",
    "boolean_array = min_volatility_weights_array > 0\n",
    "daily_returns_subset = daily_returns.loc[:, boolean_array]\n",
    "\n",
    "#Remove zero element(s) from the weight array\n",
    "min_volatility_weights_array = min_volatility_weights_array[min_volatility_weights_array != 0] \n",
    "\n",
    "#Call the analyse portfolio function which we defined earlier\n",
    "analyse_portfolio(min_volatility_weights_array, daily_returns_subset, \"MIN VOLATILITY PORTFOLIO\")"
   ]
  }
 ],
 "metadata": {
  "kernelspec": {
   "display_name": "Python 3 (ipykernel)",
   "language": "python",
   "name": "python3"
  },
  "language_info": {
   "codemirror_mode": {
    "name": "ipython",
    "version": 3
   },
   "file_extension": ".py",
   "mimetype": "text/x-python",
   "name": "python",
   "nbconvert_exporter": "python",
   "pygments_lexer": "ipython3",
   "version": "3.9.12"
  }
 },
 "nbformat": 4,
 "nbformat_minor": 5
}
